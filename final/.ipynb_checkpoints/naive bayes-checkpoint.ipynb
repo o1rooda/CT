{
 "metadata": {
  "name": ""
 },
 "nbformat": 3,
 "nbformat_minor": 0,
 "worksheets": [
  {
   "cells": [
    {
     "cell_type": "markdown",
     "metadata": {},
     "source": [
      "Naive Bayes"
     ]
    },
    {
     "cell_type": "code",
     "collapsed": false,
     "input": [
      "from numpy import *\n",
      "\n",
      "def loadDataSet():\n",
      "    postingList=[['my', 'dog', 'has', 'flea', 'problems', 'help', 'please'], \n",
      "                 ['maybe', 'not', 'take', 'him', 'to', 'dog', 'park', 'stupid'],\n",
      "                 ['my', 'dalmation', 'is', 'so', 'cute', 'I', 'love', 'him'],\n",
      "                 ['stop', 'posting', 'stupid', 'worthless', 'garbage'],\n",
      "                 ['mr', 'licks', 'ate', 'my', 'steak', 'how','to', 'stop', 'him'],\n",
      "                 ['quit', 'buying', 'worthless', 'dog', 'food', 'stupid']]\n",
      "    classVec = [0,1,0,1,0,1]\n",
      "    return postingList,classVec\n",
      "\n",
      "def createVocabList(dataSet):\n",
      "    vocabSet = set([])\n",
      "    for document in dataSet:\n",
      "        vocabSet = vocabSet | set(document) #|\uc5f0\uc0b0\uc790 \ub450\uac1c\uc758 \uc9d1\ud569 \uc720\ud615\uc758 \ubcc0\uc218\ub97c \ud569\uce5c\ub2e4.\n",
      "        #print document\n",
      "    return list(vocabSet)\n",
      "\n",
      "def setOfWords2Vec(vocabList, inputSet):\n",
      "    returnVec = [0]*len(vocabList)\n",
      "    #print returnVec\n",
      "    for word in inputSet:\n",
      "        #print word\n",
      "        if word in vocabList:\n",
      "            #print word\n",
      "            returnVec[vocabList.index(word)] = 1 #list\uc5d0 word\uac00 \uc788\uc73c\uba74 1\ub85c vec \ubcc0\ud654.\n",
      "        else: print \"the word: %s is not in my Vocabulary!\" % word\n",
      "    return returnVec\n"
     ],
     "language": "python",
     "metadata": {},
     "outputs": [],
     "prompt_number": 107
    },
    {
     "cell_type": "code",
     "collapsed": false,
     "input": [
      "listOPosts, listClasses = loadDataSet()\n",
      "print listOPosts\n",
      "#print listClasses\n",
      "\n",
      "myVocabList = createVocabList(listOPosts)\n",
      "#print myVocabList\n",
      "vec = setOfWords2Vec(myVocabList, listOPosts[0])\n",
      "print vec"
     ],
     "language": "python",
     "metadata": {},
     "outputs": [
      {
       "output_type": "stream",
       "stream": "stdout",
       "text": [
        "[['my', 'dog', 'has', 'flea', 'problems', 'help', 'please'], ['maybe', 'not', 'take', 'him', 'to', 'dog', 'park', 'stupid'], ['my', 'dalmation', 'is', 'so', 'cute', 'I', 'love', 'him'], ['stop', 'posting', 'stupid', 'worthless', 'garbage'], ['mr', 'licks', 'ate', 'my', 'steak', 'how', 'to', 'stop', 'him'], ['quit', 'buying', 'worthless', 'dog', 'food', 'stupid']]\n",
        "[0, 0, 1, 0, 0, 0, 1, 0, 0, 0, 1, 0, 0, 0, 0, 0, 0, 0, 1, 0, 0, 0, 0, 1, 1, 0, 0, 0, 0, 0, 0, 1]\n"
       ]
      }
     ],
     "prompt_number": 108
    },
    {
     "cell_type": "code",
     "collapsed": false,
     "input": [
      "def trainNB0(trainMatrix, trainCategory):\n",
      "    numTrainDocs = len(trainMatrix)\n",
      "    print numTrainDocs\n",
      "    numWords = len(trainMatrix[0])\n",
      "    print numWords\n",
      "    pAbusive = sum(trainCategory)/float(numTrainDocs)\n",
      "    #print float(numTrainDocs)\n",
      "    #print pAbusive\n",
      "    p0Num = ones(numWords); p1Num = ones(numWords) #zeros -> ones\n",
      "    p0Denom = 2.0; p1Denom = 2.0                        \n",
      "    for i in range(numTrainDocs):\n",
      "        #print range(numTrainDocs)\n",
      "        if trainCategory[i] == 1:\n",
      "            p1Num += trainMatrix[i]\n",
      "            p1Denom += sum(trainMatrix[i])\n",
      "        else:\n",
      "            p0Num += trainMatrix[i]\n",
      "            p0Denom += sum(trainMatrix[i])\n",
      "    p1Vect = log(p1Num/p1Denom)          #change to log()\n",
      "    p0Vect = log(p0Num/p0Denom)          #change to log()\n",
      "    return p0Vect,p1Vect,pAbusive\n"
     ],
     "language": "python",
     "metadata": {},
     "outputs": [],
     "prompt_number": 176
    },
    {
     "cell_type": "code",
     "collapsed": false,
     "input": [
      "listOPosts, listClasses = loadDataSet()\n",
      "myVocabList = createVocabList(listOPosts)\n",
      "trainMat = []\n",
      "for postinDoc in listOPosts:\n",
      "    #print postinDoc\n",
      "    trainMat.append(setOfWords2Vec(myVocabList, postinDoc))\n",
      "    #print trainMat\n",
      "    #print len(trainMat)\n",
      "p0V, p1V, pAb = trainNB0(trainMat, listClasses)\n",
      "print trainMat\n",
      "print listClasses\n",
      "print p0V\n",
      "print p1V\n",
      "#print pAb"
     ],
     "language": "python",
     "metadata": {},
     "outputs": [
      {
       "output_type": "stream",
       "stream": "stdout",
       "text": [
        "6\n",
        "32\n",
        "[[0, 0, 1, 0, 0, 0, 1, 0, 0, 0, 1, 0, 0, 0, 0, 0, 0, 0, 1, 0, 0, 0, 0, 1, 1, 0, 0, 0, 0, 0, 0, 1], [0, 0, 0, 0, 0, 0, 0, 0, 1, 0, 0, 0, 0, 0, 1, 1, 0, 0, 0, 0, 0, 1, 1, 0, 1, 0, 1, 0, 1, 0, 0, 0], [1, 1, 0, 0, 0, 1, 0, 1, 0, 0, 0, 1, 0, 0, 0, 1, 0, 0, 0, 0, 0, 0, 0, 0, 0, 0, 0, 1, 0, 0, 0, 1], [0, 0, 0, 1, 0, 0, 0, 0, 0, 1, 0, 0, 0, 0, 0, 0, 0, 1, 0, 1, 0, 0, 0, 0, 0, 0, 1, 0, 0, 0, 0, 0], [0, 0, 0, 0, 0, 0, 0, 0, 0, 1, 0, 0, 1, 0, 0, 1, 0, 0, 0, 0, 1, 1, 0, 0, 0, 1, 0, 0, 0, 1, 1, 1], [0, 0, 0, 0, 1, 0, 0, 0, 0, 0, 0, 0, 0, 1, 0, 0, 1, 0, 0, 1, 0, 0, 0, 0, 1, 0, 1, 0, 0, 0, 0, 0]]\n",
        "[0, 1, 0, 1, 0, 1]\n",
        "[-2.56494936 -2.56494936 -2.56494936 -3.25809654 -3.25809654 -2.56494936\n",
        " -2.56494936 -2.56494936 -3.25809654 -2.56494936 -2.56494936 -2.56494936\n",
        " -2.56494936 -3.25809654 -3.25809654 -2.15948425 -3.25809654 -3.25809654\n",
        " -2.56494936 -3.25809654 -2.56494936 -2.56494936 -3.25809654 -2.56494936\n",
        " -2.56494936 -2.56494936 -3.25809654 -2.56494936 -3.25809654 -2.56494936\n",
        " -2.56494936 -1.87180218]\n",
        "[-3.04452244 -3.04452244 -3.04452244 -2.35137526 -2.35137526 -3.04452244\n",
        " -3.04452244 -3.04452244 -2.35137526 -2.35137526 -3.04452244 -3.04452244\n",
        " -3.04452244 -2.35137526 -2.35137526 -2.35137526 -2.35137526 -2.35137526\n",
        " -3.04452244 -1.94591015 -3.04452244 -2.35137526 -2.35137526 -3.04452244\n",
        " -1.94591015 -3.04452244 -1.65822808 -3.04452244 -2.35137526 -3.04452244\n",
        " -3.04452244 -3.04452244]\n"
       ]
      }
     ],
     "prompt_number": 177
    },
    {
     "cell_type": "code",
     "collapsed": false,
     "input": [],
     "language": "python",
     "metadata": {},
     "outputs": [],
     "prompt_number": 110
    }
   ],
   "metadata": {}
  }
 ]
}