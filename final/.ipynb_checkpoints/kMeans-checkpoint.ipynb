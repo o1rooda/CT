{
 "metadata": {
  "name": ""
 },
 "nbformat": 3,
 "nbformat_minor": 0,
 "worksheets": [
  {
   "cells": [
    {
     "cell_type": "markdown",
     "metadata": {},
     "source": [
      "K-\ud3c9\uade0 \uc9d1\uad70\ud654"
     ]
    },
    {
     "cell_type": "code",
     "collapsed": false,
     "input": [
      "import os\n",
      "import numpy as np\n",
      "from numpy import *\n",
      "\n",
      "def createDataSet():\n",
      "    group = array([[1.0,1.1],[1.0,1.0],[0,0],[0,0.1]])\n",
      "    labels = ['A','A','B','B']\n",
      "    return group, labels\n",
      "\n",
      "def classify0(inX, dataSet, labels, k):\n",
      "    dataSetsize = dataSet.shape[0]\n",
      "    diffMat = tile(inX, (dataSetSize, 1)) - dataSet\n",
      "    sqDiffMat = diffMat**2\n",
      "    sqDistances = sqDistances**0.5\n",
      "    classCount = {}\n",
      "    for i in range(k):\n",
      "        voteIlabel = labels[sortedDistIndicies[i]]\n",
      "        classCount[voteIlabel] = classCount.get(voteIlabel, 0) + 1\n",
      "    sortedClassCount = sorted(classCount.iteritems(), key = operator.itemgetter(1), reverse = True)\n",
      "    return sortedClassCount[0][0]\n"
     ],
     "language": "python",
     "metadata": {},
     "outputs": [],
     "prompt_number": 8
    },
    {
     "cell_type": "code",
     "collapsed": false,
     "input": [
      "group = array([[1.0,1.1],[1.0,1.0],[0,0],[0,0.1]])\n",
      "labels = ['A','A','B','B']\n",
      "print group, labels\n"
     ],
     "language": "python",
     "metadata": {},
     "outputs": [
      {
       "output_type": "stream",
       "stream": "stdout",
       "text": [
        "[[ 1.   1.1]\n",
        " [ 1.   1. ]\n",
        " [ 0.   0. ]\n",
        " [ 0.   0.1]] ['A', 'A', 'B', 'B']\n"
       ]
      }
     ],
     "prompt_number": 23
    },
    {
     "cell_type": "code",
     "collapsed": false,
     "input": [
      "import os\n",
      "from numpy import *\n",
      "from os import listdir\n",
      "\n",
      "#dir = os.getenv('HOME')+'/home/rooda/machinelearninginaction/Ch10/dataSet.txt'\n",
      "\n",
      "def loadDataSet(filename):\n",
      "    dataMat = []\n",
      "    fr = open(filename)\n",
      "    for line in fr.readlines():\n",
      "        curLine = line.strip().split('\\t')\n",
      "        fltLine = map(float, curLine)\n",
      "        dataMat.append(fltLine)\n",
      "    return dataMat\n",
      "    #print dataMat\n",
      "\n",
      "#print len(dir)"
     ],
     "language": "python",
     "metadata": {},
     "outputs": [],
     "prompt_number": 33
    },
    {
     "cell_type": "code",
     "collapsed": false,
     "input": [
      "test = loadDataSet('/home/rooda/rdClass/final/usermodeling.txt')\n",
      "print test\n",
      "print len(test)\n",
      "print shape(test)[0]"
     ],
     "language": "python",
     "metadata": {},
     "outputs": [
      {
       "output_type": "stream",
       "stream": "stdout",
       "text": [
        "[[0.0, 0.0], [0.08, 0.08], [0.06, 0.06], [0.1, 0.1], [0.08, 0.08], [0.09, 0.15], [0.1, 0.1], [0.15, 0.02], [0.2, 0.14], [0.0, 0.0], [0.18, 0.18]]\n",
        "11\n",
        "11\n"
       ]
      }
     ],
     "prompt_number": 35
    },
    {
     "cell_type": "code",
     "collapsed": false,
     "input": [
      "def distEclud(vecA, vecB):\n",
      "    return sqrt(sum(power(vecA - vecB, 2)))"
     ],
     "language": "python",
     "metadata": {},
     "outputs": [],
     "prompt_number": 37
    },
    {
     "cell_type": "code",
     "collapsed": false,
     "input": [
      "def randCent(dataSet, k):\n",
      "    n = shape(dataSet)[1]\n",
      "    centroids = mat(zeros((k,n)))\n",
      "    for j in range(n):\n",
      "        minJ = min(dataSet[:,j])\n",
      "        print minJ\n",
      "        rangeJ = float(max(dataSet[:,j]) - minJ)\n",
      "        print rangeJ\n",
      "        midCent = rangeJ * random.rand(k,1)\n",
      "        print midCent\n",
      "        centroids[:,j] = mat(minJ + midCent)\n",
      "    return centroids"
     ],
     "language": "python",
     "metadata": {},
     "outputs": [],
     "prompt_number": 38
    },
    {
     "cell_type": "code",
     "collapsed": false,
     "input": [
      "test = loadDataSet('/home/rooda/rdClass/final/usermodeling.txt')\n",
      "dataMat = mat(test)\n",
      "#pint dataMat\n",
      "randCent(dataMat, 2)"
     ],
     "language": "python",
     "metadata": {},
     "outputs": [
      {
       "output_type": "stream",
       "stream": "stdout",
       "text": [
        "[[ 0.]]\n",
        "0.2\n",
        "[[ 0.02162837]\n",
        " [ 0.14613578]]\n",
        "[[ 0.]]\n",
        "0.18\n",
        "[[ 0.10662192]\n",
        " [ 0.04743382]]\n"
       ]
      },
      {
       "metadata": {},
       "output_type": "pyout",
       "prompt_number": 39,
       "text": [
        "matrix([[ 0.02162837,  0.10662192],\n",
        "        [ 0.14613578,  0.04743382]])"
       ]
      }
     ],
     "prompt_number": 39
    },
    {
     "cell_type": "code",
     "collapsed": false,
     "input": [
      "def distEclud(vecA, vecB):\n",
      "    return sqrt(sum(power(vecA - vecB, 2)))\n",
      "\n",
      "def randCent(dataSet, k):\n",
      "    n = shape(dataSet)[1]\n",
      "    centroids = mat(zeros((k,n)))\n",
      "    for j in range(n):\n",
      "        minJ = min(dataSet[:,j])\n",
      "        #print minJ\n",
      "        rangeJ = float(max(dataSet[:,j]) - minJ)\n",
      "        #print rangeJ\n",
      "        midCent = rangeJ * random.rand(k,1)\n",
      "        #print midCent\n",
      "        centroids[:,j] = mat(minJ + midCent)\n",
      "    return centroids\n",
      "\n",
      "def kMeans(dataSet, k, distMeas=distEclud, createCent=randCent):\n",
      "    m = shape(dataSet)[0]\n",
      "    #print m\n",
      "    clusterAssment = mat(zeros((m,2)))\n",
      "    #print clusterAssment\n",
      "    centroids = createCent(dataSet, k)\n",
      "    #print centroids\n",
      "    clusterChanged = True\n",
      "    while clusterChanged:\n",
      "        clusterChanged = False\n",
      "        for i in range(m):#for each data point assign it to the closest centroid\n",
      "            minDist = inf; minIndex = -1\n",
      "            for j in range(k):\n",
      "                distJI = distMeas(centroids[j,:],dataSet[i,:])\n",
      "                if distJI < minDist:\n",
      "                    minDist = distJI; minIndex = j\n",
      "            if clusterAssment[i,0] != minIndex: clusterChanged = True\n",
      "            clusterAssment[i,:] = minIndex,minDist**2\n",
      "       #print centroids\n",
      "        for cent in range(k):#recalculate centroids\n",
      "            ptsInClust = dataSet[nonzero(clusterAssment[:,0].A==cent)[0]]\n",
      "            centroids[cent,:] = mean(ptsInClust, axis=0)\n",
      "    return centroids, clusterAssment\n"
     ],
     "language": "python",
     "metadata": {},
     "outputs": [],
     "prompt_number": 45
    },
    {
     "cell_type": "code",
     "collapsed": false,
     "input": [
      "test = loadDataSet('/home/rooda/rdClass/final/usermodeling.txt')\n",
      "dataMat = mat(test)\n",
      "kMeans(dataMat, 2, distMeas=distEclud, createCent=randCent)\n"
     ],
     "language": "python",
     "metadata": {},
     "outputs": [
      {
       "metadata": {},
       "output_type": "pyout",
       "prompt_number": 48,
       "text": [
        "(matrix([[ 0.17666667,  0.11333333],\n",
        "        [ 0.06375   ,  0.07125   ]]),\n",
        " matrix([[  1.00000000e+00,   9.14062500e-03],\n",
        "        [  1.00000000e+00,   3.40625000e-04],\n",
        "        [  1.00000000e+00,   1.40625000e-04],\n",
        "        [  1.00000000e+00,   2.14062500e-03],\n",
        "        [  1.00000000e+00,   3.40625000e-04],\n",
        "        [  1.00000000e+00,   6.89062500e-03],\n",
        "        [  1.00000000e+00,   2.14062500e-03],\n",
        "        [  0.00000000e+00,   9.42222222e-03],\n",
        "        [  0.00000000e+00,   1.25555556e-03],\n",
        "        [  1.00000000e+00,   9.14062500e-03],\n",
        "        [  0.00000000e+00,   4.45555556e-03]]))"
       ]
      }
     ],
     "prompt_number": 48
    },
    {
     "cell_type": "code",
     "collapsed": false,
     "input": [
      "def distEclud(vecA, vecB):\n",
      "    return sqrt(sum(power(vecA - vecB, 2)))\n",
      "\n",
      "def randCent(dataSet, k):\n",
      "    n = shape(dataSet)[1]\n",
      "    centroids = mat(zeros((k,n)))\n",
      "    for j in range(n):\n",
      "        minJ = min(dataSet[:,j])\n",
      "        #print minJ\n",
      "        rangeJ = float(max(dataSet[:,j]) - minJ)\n",
      "        #print rangeJ\n",
      "        midCent = rangeJ * random.rand(k,1)\n",
      "        #print midCent\n",
      "        centroids[:,j] = mat(minJ + midCent)\n",
      "    return centroids\n",
      "\n",
      "def kMeans(dataSet, k, distMeas=distEclud, createCent=randCent):\n",
      "    m = shape(dataSet)[0]\n",
      "    #print m\n",
      "    clusterAssment = mat(zeros((m,2)))\n",
      "    #print clusterAssment\n",
      "    centroids = createCent(dataSet, k)\n",
      "    #print centroids\n",
      "    clusterChanged = True\n",
      "    while clusterChanged:\n",
      "        clusterChanged = False\n",
      "        for i in range(m):#for each data point assign it to the closest centroid\n",
      "            minDist = inf; minIndex = -1\n",
      "            for j in range(k):\n",
      "                distJI = distMeas(centroids[j,:],dataSet[i,:])\n",
      "                if distJI < minDist:\n",
      "                    minDist = distJI; minIndex = j\n",
      "            if clusterAssment[i,0] != minIndex: clusterChanged = True\n",
      "            clusterAssment[i,:] = minIndex,minDist**2\n",
      "       #print centroids\n",
      "        for cent in range(k):#recalculate centroids\n",
      "            ptsInClust = dataSet[nonzero(clusterAssment[:,0].A==cent)[0]]#get all the point in this cluster\n",
      "            centroids[cent,:] = mean(ptsInClust, axis=0) #assign centroid to mean \n",
      "    return centroids, clusterAssment\n",
      "\n",
      "def biKmeans(dataSet, k, distMeas=distEclud):\n",
      "    m = shape(dataSet)[0]\n",
      "    clusterAssment = mat(zeros((m,2)))\n",
      "    centroid0 = mean(dataSet, axis=0).tolist()[0]\n",
      "    #print centroid0\n",
      "    centList =[centroid0]\n",
      "    #print centList\n",
      "    for j in range(m):#calc initial Error\n",
      "        clusterAssment[j,1] = distMeas(mat(centroid0), dataSet[j,:])**2\n",
      "        #print clusterAssment[j,0]\n",
      "    while (len(centList) < k):\n",
      "        lowestSSE = inf\n",
      "        for i in range(len(centList)):\n",
      "            ptsInCurrCluster = dataSet[nonzero(clusterAssment[:,0].A==i)[0],:]\n",
      "            #a = clusterAssment[:,0].A==i\n",
      "            #print a\n",
      "            #print nonzero(clusterAssment[:,0].A==i)[0]\n",
      "            #print ptsInCurrCluster\n",
      "            centroidMat, splitClustAss = kMeans(ptsInCurrCluster, 2, distMeas)\n",
      "            #print splitClustAss\n",
      "            sseSplit = sum(splitClustAss[:,1])\n",
      "            #print sseSplit\n",
      "            sseNotSplit = sum(clusterAssment[nonzero(clusterAssment[:,0].A!=i)[0],1])\n",
      "            #print nonzero(clusterAssment[:,0].A!=i)\n",
      "            print \"sseSplit, and notSplit: \",sseSplit,sseNotSplit\n",
      "            if (sseSplit + sseNotSplit) < lowestSSE:\n",
      "                bestCentToSplit = i\n",
      "                bestNewCents = centroidMat\n",
      "                bestClustAss = splitClustAss.copy()\n",
      "                lowestSSE = sseSplit + sseNotSplit\n",
      "        bestClustAss[nonzero(bestClustAss[:,0].A == 1)[0],0] = len(centList) #change 1 to 3,4, or whatever\n",
      "        bestClustAss[nonzero(bestClustAss[:,0].A == 0)[0],0] = bestCentToSplit\n",
      "        print 'the bestCentToSplit is: ',bestCentToSplit\n",
      "        print 'the len of bestClustAss is: ', len(bestClustAss)\n",
      "        #print centList[bestCentToSplit]\n",
      "        centList[bestCentToSplit] = bestNewCents[0,:].tolist()[0]\n",
      "        #print centList[bestCentToSplit]\n",
      "        #print bestNewCents[0,:].tolist()[0]\n",
      "        centList.append(bestNewCents[1,:].tolist()[0])\n",
      "        clusterAssment[nonzero(clusterAssment[:,0].A == bestCentToSplit)[0],:]= bestClustAss#reassign new clusters, and SSE\n",
      "    return mat(centList), clusterAssment\n"
     ],
     "language": "python",
     "metadata": {},
     "outputs": [],
     "prompt_number": 50
    },
    {
     "cell_type": "code",
     "collapsed": false,
     "input": [
      "test = loadDataSet('/home/rooda/rdClass/final/usermodeling.txt')\n",
      "dataMat = mat(test)\n",
      "distMeas = distEclud\n",
      "biKmeans(dataMat, 2, distMeas)"
     ],
     "language": "python",
     "metadata": {},
     "outputs": [
      {
       "output_type": "stream",
       "stream": "stdout",
       "text": [
        "sseSplit, and notSplit:  0.0454083333333 0.0\n",
        "the bestCentToSplit is:  0\n",
        "the len of bestClustAss is:  11\n"
       ]
      },
      {
       "metadata": {},
       "output_type": "pyout",
       "prompt_number": 52,
       "text": [
        "(matrix([[ 0.06375   ,  0.07125   ],\n",
        "        [ 0.17666667,  0.11333333]]),\n",
        " matrix([[  0.00000000e+00,   9.14062500e-03],\n",
        "        [  0.00000000e+00,   3.40625000e-04],\n",
        "        [  0.00000000e+00,   1.40625000e-04],\n",
        "        [  0.00000000e+00,   2.14062500e-03],\n",
        "        [  0.00000000e+00,   3.40625000e-04],\n",
        "        [  0.00000000e+00,   6.89062500e-03],\n",
        "        [  0.00000000e+00,   2.14062500e-03],\n",
        "        [  1.00000000e+00,   9.42222222e-03],\n",
        "        [  1.00000000e+00,   1.25555556e-03],\n",
        "        [  0.00000000e+00,   9.14062500e-03],\n",
        "        [  1.00000000e+00,   4.45555556e-03]]))"
       ]
      }
     ],
     "prompt_number": 52
    },
    {
     "cell_type": "code",
     "collapsed": false,
     "input": [
      "                                                                                                                                                                                                                                                                                                                                                                                                                                                                                                                                                                                                                                                                                                                                                                                                                                                                                                                                                                                                                                                                                                                                                                                                                                                                            "
     ],
     "language": "python",
     "metadata": {},
     "outputs": []
    }
   ],
   "metadata": {}
  }
 ]
}