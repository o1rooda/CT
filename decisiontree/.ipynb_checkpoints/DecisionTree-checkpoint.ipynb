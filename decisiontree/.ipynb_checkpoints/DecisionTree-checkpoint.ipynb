{
 "metadata": {
  "name": ""
 },
 "nbformat": 3,
 "nbformat_minor": 0,
 "worksheets": [
  {
   "cells": [
    {
     "cell_type": "markdown",
     "metadata": {},
     "source": [
      "##Decision Tree\n",
      "\n",
      "- ID3 Algorithm\n",
      "- Entropy\n",
      "- Information Gain\n",
      "\n",
      "\n",
      "\n",
      "####-Input Data\n",
      " - myDat\n",
      "\n",
      "\n",
      "####-Output Data"
     ]
    },
    {
     "cell_type": "code",
     "collapsed": false,
     "input": [
      "from math import log\n",
      "import operator\n",
      "\n",
      "def createDataSet():\n",
      "    dataSet = [[1, 1, 'yes'],\n",
      "               [1, 1, 'yes'],\n",
      "               [1, 0, 'no'],\n",
      "               [0, 1, 'no'],\n",
      "               [0, 1, 'no']]\n",
      "    labels = ['no surfacing','flippers']\n",
      "    #change to discrete values\n",
      "    return dataSet, labels"
     ],
     "language": "python",
     "metadata": {},
     "outputs": [],
     "prompt_number": 10
    },
    {
     "cell_type": "markdown",
     "metadata": {},
     "source": [
      "###Entropy\n",
      "\n",
      "- \uc5d4\ud2b8\ub85c\ud53c\uc758 \uac12\uc740 0\uc5d0\uc11c 1\uc0ac\uc774\uc758 \uac12\uc744 \uac16\ub294\ub2e4.\n",
      "- \uac00\uc7a5 \ud63c\uc7a1\ub3c4\uac00 \ub192\uc740 \uc0c1\ud0dc\uc758 \uac12\uc774 1\uc774\uba70, \ud558\ub098\uc758 \ud074\ub798\uc2a4\ub85c\ub9cc \uad6c\uc131\ub41c \uc0c1\ud0dc\uc758 \uac12\uc774 0\uc774\ub2e4.\n",
      "- Decision Tree \uc54c\uace0\ub9ac\ub4ec\uc5d0\uc11c\ub294 \uc5d4\ud2b8\ub85c\ud53c\uac00 \ub192\uc740 \uc0c1\ud0dc\uc5d0\uc11c \ub0ae\uc740 \uc0c1\ud0dc\uac00 \ub418\ub3c4\ub85d \ub370\uc774\ud130\ub97c \ud2b9\uc815 \uc870\uac74\uc744 \ucc3e\uc544 \ub098\ubb34\ubaa8\uc591\uc73c\ub85c \uad6c\ubd84\ud574\ub098\uac04\ub2e4.\n",
      "\n",
      "###$ Entropy(S) = -\\sum_{i=1}^np(x_i)log_2p(x_i)$ \n",
      "\n",
      "###$P(x_i) = \\frac{freq(C_i, S)}{|S|}$\n",
      "\n",
      "- S : \uc8fc\uc5b4\uc9c4 \ub370\uc774\ud130\ub4e4\uc758 \uc9d1\ud569\n",
      "\n",
      "- $C = {C_1, C_2, C_3, ... , C_i}$ : \ud074\ub798\uc2a4 \uac12\ub4e4\uc758 \uc9d1\ud569\n",
      "\n",
      "\n",
      "- $freq(C_i, S) : S\uc5d0\uc11c class C_i \uc5d0 \uc18d\ud558\ub294 \ub808\ucf54\ub4dc\uc758 \uc218$\n",
      "\n",
      "\n",
      "- $|S|$ : \uc8fc\uc5b4\uc9c4 \ub370\uc774\ud130\ub4e4\uc758 \uc9d1\ud569\uc758 \ub370\uc774\ud130 \uac1c\uc218\n"
     ]
    },
    {
     "cell_type": "code",
     "collapsed": false,
     "input": [
      "def calcShannonEnt(dataSet):\n",
      "    numEntries = len(dataSet)\n",
      "    labelCounts = {}\n",
      "    for featVec in dataSet: #the the number of unique elements and their occurance\n",
      "        currentLabel = featVec[-1]\n",
      "        if currentLabel not in labelCounts.keys(): labelCounts[currentLabel] = 0\n",
      "        labelCounts[currentLabel] += 1\n",
      "    shannonEnt = 0.0\n",
      "    for key in labelCounts:\n",
      "        prob = float(labelCounts[key])/numEntries\n",
      "        shannonEnt -= prob * log(prob,2) #log base 2\n",
      "    return shannonEnt"
     ],
     "language": "python",
     "metadata": {},
     "outputs": [],
     "prompt_number": 12
    },
    {
     "cell_type": "markdown",
     "metadata": {},
     "source": [
      "axis = lables\n",
      "value = \uae30\uc900 \uac12"
     ]
    },
    {
     "cell_type": "markdown",
     "metadata": {},
     "source": [
      "###Information Gain\n",
      "\n"
     ]
    },
    {
     "cell_type": "code",
     "collapsed": false,
     "input": [],
     "language": "python",
     "metadata": {},
     "outputs": []
    }
   ],
   "metadata": {}
  }
 ]
}