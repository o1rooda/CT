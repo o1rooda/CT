{
 "metadata": {
  "name": ""
 },
 "nbformat": 3,
 "nbformat_minor": 0,
 "worksheets": [
  {
   "cells": [
    {
     "cell_type": "markdown",
     "metadata": {},
     "source": [
      "###Decision Tree\n",
      "\n",
      "- ID3 Algorithm\n",
      "- Entropy\n",
      "- Information Gain\n",
      "\n"
     ]
    }
   ],
   "metadata": {}
  }
 ]
}