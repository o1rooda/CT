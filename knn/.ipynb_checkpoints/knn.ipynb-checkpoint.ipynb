{
 "metadata": {
  "name": ""
 },
 "nbformat": 3,
 "nbformat_minor": 0,
 "worksheets": [
  {
   "cells": [
    {
     "cell_type": "markdown",
     "metadata": {},
     "source": [
      "k-NN(k-Nearest Neighbors)\n",
      "\n",
      "- \uae30\uc874 \ub370\uc774\ud130 \uc911 \uac00\uc7a5 \uc720\uc0ac\ud55c k\uac1c\uc758 \ub370\uc774\ud130\ub97c \uc774\uc6a9\ud574\uc11c \uac12\uc744 \uc608\uce21\ud558\ub294 \ubc29\ubc95\n",
      "- knn\uc740 \ub9e4\uc6b0 \ub2e8\uc21c\ud558\uc9c0\ub9cc \uc815\ud655\uc131\uc774 \ube44\uad50\uc801 \ub192\uc74c\n",
      "\n",
      "algorithm knn\n",
      "\n",
      "- input : inX(\ud559\uc2b5\ub370\uc774\ud130), dataSet(\ud14c\uc2a4\ud2b8\ub370\uc774\ud130), labels(class), k(\ud22c\ud45c\uac2f\uc218)\n",
      "  - inX : training dataset m(n_features) x n(n_samples)\n",
      "  - dataSet : test instance\n",
      "  - labels : class label\n",
      "  - k : the number of most similar examples in S\n",
      "\n",
      "- output : class of x majority class\n",
      "\n",
      "\uc808\ucc28\n",
      "\n",
      "- for (feature,class) \u2208 S do\n",
      "  - compute the distance d(feature,x)\n",
      "- end for\n",
      "- sort d by increasing order\n",
      "- count the number of occurences of each class among the k nearest neighbors\n",
      "- Assign d the class that is the most frequent class (or the majority class)\n",
      "\n",
      "\uc54c\uace0\ub9ac\ub4ec\uc5d0 \ub530\ub978 \uac1c\ubc1c\n",
      "\n",
      "1. data read - \ub370\uc774\ud130 \uc900\ube44\n",
      "2. distance - \ud559\uc2b5\ub370\uc774\ud130\uc640 \ud14c\uc2a4\ud2b8\ub370\uc774\ud130 \uac70\ub9ac(\uc720\uc0ac\ub3c4) \uacc4\uc0b0\n",
      "3. select k neighbors - \uac00\uc7a5 \uac00\uae4c\uc6b4 k\uac1c \uc120\uc815\n",
      "4. decision - k\uac1c\uc5d0\uc11c voting\ud558\uc5ec \uacb0\uc815\n",
      "5. accuracy - \uc815\ud655\uc131\n"
     ]
    },
    {
     "cell_type": "code",
     "collapsed": false,
     "input": [
      "from numpy import *\n",
      "import operator\n",
      "from os import listdir\n",
      "\n",
      "def createDataSet():\n",
      "    group = array([[1.0,1.1],[1.0,1.0],[0,0],[0,0.1]])\n",
      "    labels = ['A','A','B','B']\n",
      "    return group, labels\n",
      "\n",
      "#\uac70\ub9ac \uacc4\uc0b0\n",
      "\n",
      "def classify0(inX, dataSet, labels, k):\n",
      "    dataSetSize = dataSet.shape[0]\n",
      "    diffMat = tile(inX, (dataSetSize,1)) - dataSet\n",
      "    sqDiffMat = diffMat**2\n",
      "    sqDistances = sqDiffMat.sum(axis=1)\n",
      "    distances = sqDistances**0.5\n",
      "    sortedDistIndicies = distances.argsort()\n",
      "    classCount={}\n",
      "    \n",
      "#\uac00\uc7a5 \uc9e7\uc740 k\uac70\ub9ac\ub97c \ud22c\ud45c\n",
      "\n",
      "    for i in range(k):\n",
      "        voteIlabel = labels[sortedDistIndicies[i]]\n",
      "        classCount[voteIlabel] = classCount.get(voteIlabel,0) + 1\n",
      "    sortedClassCount = sorted(classCount.iteritems(), key=operator.itemgetter(1), reverse=True) #\uc544\uc774\ud15c \uc815\ub82c\n",
      "    return sortedClassCount[0][0]\n",
      "\n",
      "\n",
      "\n",
      "print tile\n",
      "print operator"
     ],
     "language": "python",
     "metadata": {},
     "outputs": [
      {
       "output_type": "stream",
       "stream": "stdout",
       "text": [
        "<function tile at 0x7f7e1b7202a8>\n",
        "<module 'operator' (built-in)>\n"
       ]
      }
     ],
     "prompt_number": 53
    },
    {
     "cell_type": "code",
     "collapsed": false,
     "input": [
      "group, labels = createDataSet()\n",
      "print group\n",
      "print labels\n",
      "\n",
      "print classify0([0,0], group, labels, 3)\n"
     ],
     "language": "python",
     "metadata": {},
     "outputs": [
      {
       "output_type": "stream",
       "stream": "stdout",
       "text": [
        "[[ 1.   1.1]\n",
        " [ 1.   1. ]\n",
        " [ 0.   0. ]\n",
        " [ 0.   0.1]]\n",
        "['A', 'A', 'B', 'B']\n",
        "B\n"
       ]
      }
     ],
     "prompt_number": 37
    },
    {
     "cell_type": "code",
     "collapsed": false,
     "input": [
      "inX = [0,0]\n",
      "dataSet = group\n",
      "\n",
      "dataSetSize = dataSet.shape[0]\n",
      "print dataSetSize\n",
      "\n",
      "diffMat = tile(inX, (dataSetSize, 1)) - dataSet\n",
      "print diffMat\n",
      "\n",
      "sqDiffMat = diffMat **2\n",
      "print sqDiffMat\n",
      "\n",
      "sqDistances = sqDiffMat.sum(axis = 1)\n",
      "print sqDistances\n",
      "\n",
      "distances = sqDistances ** 0.5\n",
      "print distances\n",
      "\n",
      "sortedDistIndicies = distances.argsort()\n",
      "print sortedDistIndicies\n",
      "\n",
      "\n"
     ],
     "language": "python",
     "metadata": {},
     "outputs": [
      {
       "output_type": "stream",
       "stream": "stdout",
       "text": [
        "4\n",
        "[[-1.  -1.1]\n",
        " [-1.  -1. ]\n",
        " [ 0.   0. ]\n",
        " [ 0.  -0.1]]\n",
        "[[ 1.    1.21]\n",
        " [ 1.    1.  ]\n",
        " [ 0.    0.  ]\n",
        " [ 0.    0.01]]\n",
        "[ 2.21  2.    0.    0.01]\n",
        "[ 1.48660687  1.41421356  0.          0.1       ]\n",
        "[2 3 1 0]\n",
        "{}\n"
       ]
      }
     ],
     "prompt_number": 51
    },
    {
     "cell_type": "code",
     "collapsed": false,
     "input": [
      "def img2vector(filename):\n",
      "    returnVect = zeros((1,1024))\n",
      "    fr = open(filename)\n",
      "    for i in range(32):\n",
      "        lineStr = fr.readline()\n",
      "        for j in range(32):\n",
      "            returnVect[0,32*i+j] = int(lineStr[j])\n",
      "    return returnVect "
     ],
     "language": "python",
     "metadata": {},
     "outputs": []
    },
    {
     "cell_type": "code",
     "collapsed": false,
     "input": [
      "testVector = img2vector('/home/rooda/machinelearninginaction/Ch02/digits/testDigits/0_13.txt')\n",
      "testVector[0, 0:31]"
     ],
     "language": "python",
     "metadata": {},
     "outputs": [
      {
       "metadata": {},
       "output_type": "pyout",
       "prompt_number": 28,
       "text": [
        "array([ 0.,  0.,  0.,  0.,  0.,  0.,  0.,  0.,  0.,  0.,  0.,  0.,  0.,\n",
        "        0.,  1.,  1.,  1.,  1.,  0.,  0.,  0.,  0.,  0.,  0.,  0.,  0.,\n",
        "        0.,  0.,  0.,  0.,  0.])"
       ]
      }
     ],
     "prompt_number": 28
    },
    {
     "cell_type": "code",
     "collapsed": false,
     "input": [
      "def handwritingClassTest():\n",
      "    hwLabels = []\n",
      "    trainingFileList = listdir('/home/rooda/machinelearninginaction/Ch02/digits/trainingDigits')           #load the training set\n",
      "    m = len(trainingFileList)\n",
      "    trainingMat = zeros((m,1024))\n",
      "    for i in range(m):\n",
      "        fileNameStr = trainingFileList[i]\n",
      "        fileStr = fileNameStr.split('.')[0]     #take off .txt\n",
      "        classNumStr = int(fileStr.split('_')[0])\n",
      "        hwLabels.append(classNumStr)\n",
      "        trainingMat[i,:] = img2vector('/home/rooda/machinelearninginaction/Ch02/digits/trainingDigits/%s' % fileNameStr)\n",
      "    testFileList = listdir('/home/rooda/machinelearninginaction/Ch02/digits/testDigits')\n",
      "    errorCount = 0.0\n",
      "    mTest = len(testFileList)\n",
      "    for i in range(mTest):\n",
      "        fileNameStr = testFileList[i]\n",
      "        fileStr = fileNameStr.split('.')[0]     #take off .txt\n",
      "        classNumStr = int(fileStr.split('_')[0])\n",
      "        vectorUnderTest = img2vector('/home/rooda/machinelearninginaction/Ch02/digits/testDigits/%s' % fileNameStr)\n",
      "        classifierResult = classify0(vectorUnderTest, trainingMat, hwLabels, 3)\n",
      "        print \"the classifier came back with: %d, the real answer is: %d\" % (classifierResult, classNumStr)\n",
      "        if (classifierResult != classNumStr): errorCount += 1.0\n",
      "    print \"\\nthe total number of errors is: %d\" % errorCount\n",
      "    print \"\\nthe total error rate is: %f\" % (errorCount/float(mTest))\n"
     ],
     "language": "python",
     "metadata": {},
     "outputs": [],
     "prompt_number": 25
    }
   ],
   "metadata": {}
  }
 ]
}