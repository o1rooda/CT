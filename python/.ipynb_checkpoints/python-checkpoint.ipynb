{
 "metadata": {
  "name": ""
 },
 "nbformat": 3,
 "nbformat_minor": 0,
 "worksheets": [
  {
   "cells": [
    {
     "cell_type": "markdown",
     "metadata": {},
     "source": [
      "# Programming elements\n",
      "    * \ud504\ub85c\uadf8\ub798\ubc0d \uc694\uc18c\ub294 \uc785\ub825, \ucd9c\ub825, \uc21c\ucc28, \uc870\uac74, \ubc18\ubcf5, \uc7ac\uc0ac\uc6a9\ub85c \uad6c\uc131.\n",
      "    * \ud568\uc218function \ub370\uc774\ud130data\ub85c \uad6c\ud604.\n",
      "    * syntax (\ubb38\ubc95\uc624\ub958) vs logic errors (\uc608: \ubb38\ub2eb\uace0 \ub4e4\uc5b4\uc640)\n"
     ]
    },
    {
     "cell_type": "code",
     "collapsed": false,
     "input": [
      "!java -version"
     ],
     "language": "python",
     "metadata": {},
     "outputs": [
      {
       "output_type": "stream",
       "stream": "stdout",
       "text": [
        "java version \"1.7.0_79\"\r\n",
        "OpenJDK Runtime Environment (IcedTea 2.5.6) (7u79-2.5.6-0ubuntu1.14.04.1)\r\n",
        "OpenJDK 64-Bit Server VM (build 24.79-b02, mixed mode)\r\n"
       ]
      }
     ],
     "prompt_number": 19
    },
    {
     "cell_type": "code",
     "collapsed": false,
     "input": [
      "!java -jar plantuml.jar -testdot"
     ],
     "language": "python",
     "metadata": {},
     "outputs": [
      {
       "output_type": "stream",
       "stream": "stdout",
       "text": [
        "The environment variable GRAPHVIZ_DOT has been set to /opt/local/bin/dot\r\n",
        "Dot executable is /opt/local/bin/dot\r\n",
        "Error: file does not exist\r\n",
        "Error: only sequence diagrams will be generated\r\n"
       ]
      }
     ],
     "prompt_number": 20
    },
    {
     "cell_type": "code",
     "collapsed": false,
     "input": [
      "import os\n",
      "os.environ['GRAPHVIZ_DOT']='/opt/local/bin/dot'\n",
      "print os.environ['GRAPHVIZ_DOT']\n",
      "!java -jar plantuml.jar -testdot"
     ],
     "language": "python",
     "metadata": {},
     "outputs": [
      {
       "output_type": "stream",
       "stream": "stdout",
       "text": [
        "/opt/local/bin/dot\n"
       ]
      },
      {
       "output_type": "stream",
       "stream": "stdout",
       "text": [
        "The environment variable GRAPHVIZ_DOT has been set to /opt/local/bin/dot\r\n",
        "Dot executable is /opt/local/bin/dot\r\n",
        "Error: file does not exist\r\n",
        "Error: only sequence diagrams will be generated\r\n"
       ]
      }
     ],
     "prompt_number": 21
    },
    {
     "cell_type": "markdown",
     "metadata": {},
     "source": [
      "##\ubb38\uc81c 1\n",
      " * If we list all the natural numbers below 10 that are multiples of 3 or 5, we get 3, 5, 6 and 9. The sum of these multiples is 23.\n",
      " * Find the sum of all the multiples of 3 or 5 below 1000."
     ]
    },
    {
     "cell_type": "markdown",
     "metadata": {},
     "source": [
      "##\ubb38\uc81c1 \ud480\uc774"
     ]
    },
    {
     "cell_type": "code",
     "collapsed": false,
     "input": [
      "%install_ext https://raw.githubusercontent.com/sberke/ipython-plantuml/master/plantuml_magics.py"
     ],
     "language": "python",
     "metadata": {},
     "outputs": [
      {
       "output_type": "stream",
       "stream": "stdout",
       "text": [
        "Installed plantuml_magics.py. To use it, type:\n",
        "  %load_ext plantuml_magics\n"
       ]
      }
     ],
     "prompt_number": 22
    },
    {
     "cell_type": "code",
     "collapsed": false,
     "input": [
      "%load_ext plantuml_magics"
     ],
     "language": "python",
     "metadata": {},
     "outputs": [
      {
       "output_type": "stream",
       "stream": "stdout",
       "text": [
        "The plantuml_magics extension is already loaded. To reload it, use:\n",
        "  %reload_ext plantuml_magics\n"
       ]
      }
     ],
     "prompt_number": 23
    },
    {
     "cell_type": "code",
     "collapsed": false,
     "input": [
      "import glob\n",
      "glob.glob(r'./*.jar')"
     ],
     "language": "python",
     "metadata": {},
     "outputs": [
      {
       "metadata": {},
       "output_type": "pyout",
       "prompt_number": 24,
       "text": [
        "['./plantuml.jar']"
       ]
      }
     ],
     "prompt_number": 24
    },
    {
     "cell_type": "code",
     "collapsed": false,
     "input": [
      "%%plantuml\n",
      "@startuml\n",
      "\n",
      "start\n",
      "\n",
      ":sum=0;\n",
      "repeat\n",
      "    if (num is not divided by 3 or 5) then (true)\n",
      "    :add num to sum;\n",
      "    endif\n",
      "repeat while (num is 1000?)\n",
      ":print sum;\n",
      "\n",
      "stop\n",
      "\n",
      "@enduml"
     ],
     "language": "python",
     "metadata": {},
     "outputs": [
      {
       "metadata": {},
       "output_type": "pyout",
       "prompt_number": 16,
       "svg": [
        "<svg height=\"390px\" style=\"width:317px;height:390px;\" version=\"1.1\" viewBox=\"0 0 317 390\" width=\"317px\" xmlns=\"http://www.w3.org/2000/svg\" xmlns:xlink=\"http://www.w3.org/1999/xlink\"><defs><filter height=\"300%\" id=\"f1\" width=\"300%\" x=\"-1\" y=\"-1\"><feGaussianBlur result=\"blurOut\" stdDeviation=\"2.0\"/><feColorMatrix in=\"blurOut\" result=\"blurOut2\" type=\"matrix\" values=\"0 0 0 0 0 0 0 0 0 0 0 0 0 0 0 0 0 0 .4 0\"/><feOffset dx=\"4.0\" dy=\"4.0\" in=\"blurOut2\" result=\"blurOut3\"/><feBlend in=\"SourceGraphic\" in2=\"blurOut3\" mode=\"normal\"/></filter></defs><g><ellipse cx=\"173\" cy=\"20\" fill=\"#000000\" filter=\"url(#f1)\" rx=\"10\" ry=\"10\" style=\"stroke: none; stroke-width: 1.0;\"/><rect fill=\"#FEFECE\" filter=\"url(#f1)\" height=\"33.9688\" rx=\"12.5\" ry=\"12.5\" style=\"stroke: #A80036; stroke-width: 1.5;\" width=\"64\" x=\"141\" y=\"50\"/><text fill=\"#000000\" font-family=\"sans-serif\" font-size=\"12\" lengthAdjust=\"spacingAndGlyphs\" textLength=\"44\" x=\"151\" y=\"71.1387\">sum=0</text><polygon fill=\"#FEFECE\" filter=\"url(#f1)\" points=\"93,147.9688,253,147.9688,265,159.9688,253,171.9688,93,171.9688,81,159.9688,93,147.9688\" style=\"stroke: #A80036; stroke-width: 1.5;\"/><text fill=\"#000000\" font-family=\"sans-serif\" font-size=\"11\" lengthAdjust=\"spacingAndGlyphs\" textLength=\"160\" x=\"93\" y=\"163.7769\">num is not divided by 3 or 5</text><text fill=\"#000000\" font-family=\"sans-serif\" font-size=\"11\" lengthAdjust=\"spacingAndGlyphs\" textLength=\"23\" x=\"58\" y=\"157.3745\">true</text><rect fill=\"#FEFECE\" filter=\"url(#f1)\" height=\"33.9688\" rx=\"12.5\" ry=\"12.5\" style=\"stroke: #A80036; stroke-width: 1.5;\" width=\"122\" x=\"10\" y=\"181.9688\"/><text fill=\"#000000\" font-family=\"sans-serif\" font-size=\"12\" lengthAdjust=\"spacingAndGlyphs\" textLength=\"102\" x=\"20\" y=\"203.1074\">add num to sum</text><polygon fill=\"#FEFECE\" filter=\"url(#f1)\" points=\"173,221.9375,185,233.9375,173,245.9375,161,233.9375,173,221.9375\" style=\"stroke: #A80036; stroke-width: 1.5;\"/><polygon fill=\"#FEFECE\" filter=\"url(#f1)\" points=\"173,103.9688,185,115.9688,173,127.9688,161,115.9688,173,103.9688\" style=\"stroke: #A80036; stroke-width: 1.5;\"/><polygon fill=\"#FEFECE\" filter=\"url(#f1)\" points=\"134.5,265.9375,211.5,265.9375,223.5,277.9375,211.5,289.9375,134.5,289.9375,122.5,277.9375,134.5,265.9375\" style=\"stroke: #A80036; stroke-width: 1.5;\"/><text fill=\"#000000\" font-family=\"sans-serif\" font-size=\"11\" lengthAdjust=\"spacingAndGlyphs\" textLength=\"77\" x=\"134.5\" y=\"281.7456\">num is 1000?</text><rect fill=\"#FEFECE\" filter=\"url(#f1)\" height=\"33.9688\" rx=\"12.5\" ry=\"12.5\" style=\"stroke: #A80036; stroke-width: 1.5;\" width=\"79\" x=\"133.5\" y=\"309.9375\"/><text fill=\"#000000\" font-family=\"sans-serif\" font-size=\"12\" lengthAdjust=\"spacingAndGlyphs\" textLength=\"59\" x=\"143.5\" y=\"331.0762\">print sum</text><ellipse cx=\"173\" cy=\"373.9063\" fill=\"none\" filter=\"url(#f1)\" rx=\"10\" ry=\"10\" style=\"stroke: #000000; stroke-width: 1.0;\"/><ellipse cx=\"173.5\" cy=\"374.4063\" fill=\"#000000\" filter=\"url(#f1)\" rx=\"6\" ry=\"6\" style=\"stroke: none; stroke-width: 1.0;\"/><line style=\"stroke: #A80036; stroke-width: 1.5;\" x1=\"173\" x2=\"173\" y1=\"30\" y2=\"50\"/><polygon fill=\"#A80036\" points=\"169,40,173,50,177,40,173,44\" style=\"stroke: #A80036; stroke-width: 1.0;\"/><line style=\"stroke: #A80036; stroke-width: 1.5;\" x1=\"81\" x2=\"71\" y1=\"159.9688\" y2=\"159.9688\"/><line style=\"stroke: #A80036; stroke-width: 1.5;\" x1=\"71\" x2=\"71\" y1=\"159.9688\" y2=\"181.9688\"/><polygon fill=\"#A80036\" points=\"67,171.9688,71,181.9688,75,171.9688,71,175.9688\" style=\"stroke: #A80036; stroke-width: 1.0;\"/><line style=\"stroke: #A80036; stroke-width: 1.5;\" x1=\"265\" x2=\"275\" y1=\"159.9688\" y2=\"159.9688\"/><polygon fill=\"#A80036\" points=\"271,186.9531,275,196.9531,279,186.9531,275,190.9531\" style=\"stroke: #A80036; stroke-width: 1.5;\"/><line style=\"stroke: #A80036; stroke-width: 1.5;\" x1=\"275\" x2=\"275\" y1=\"159.9688\" y2=\"233.9375\"/><line style=\"stroke: #A80036; stroke-width: 1.5;\" x1=\"275\" x2=\"185\" y1=\"233.9375\" y2=\"233.9375\"/><polygon fill=\"#A80036\" points=\"195,229.9375,185,233.9375,195,237.9375,191,233.9375\" style=\"stroke: #A80036; stroke-width: 1.0;\"/><line style=\"stroke: #A80036; stroke-width: 1.5;\" x1=\"71\" x2=\"71\" y1=\"215.9375\" y2=\"233.9375\"/><line style=\"stroke: #A80036; stroke-width: 1.5;\" x1=\"71\" x2=\"161\" y1=\"233.9375\" y2=\"233.9375\"/><polygon fill=\"#A80036\" points=\"151,229.9375,161,233.9375,151,237.9375,155,233.9375\" style=\"stroke: #A80036; stroke-width: 1.0;\"/><line style=\"stroke: #A80036; stroke-width: 1.5;\" x1=\"173\" x2=\"173\" y1=\"127.9688\" y2=\"147.9688\"/><polygon fill=\"#A80036\" points=\"169,137.9688,173,147.9688,177,137.9688,173,141.9688\" style=\"stroke: #A80036; stroke-width: 1.0;\"/><line style=\"stroke: #A80036; stroke-width: 1.5;\" x1=\"223.5\" x2=\"312\" y1=\"277.9375\" y2=\"277.9375\"/><polygon fill=\"#A80036\" points=\"308,230.9531,312,220.9531,316,230.9531,312,226.9531\" style=\"stroke: #A80036; stroke-width: 1.5;\"/><line style=\"stroke: #A80036; stroke-width: 1.5;\" x1=\"312\" x2=\"312\" y1=\"115.9688\" y2=\"277.9375\"/><line style=\"stroke: #A80036; stroke-width: 1.5;\" x1=\"312\" x2=\"185\" y1=\"115.9688\" y2=\"115.9688\"/><polygon fill=\"#A80036\" points=\"195,111.9688,185,115.9688,195,119.9688,191,115.9688\" style=\"stroke: #A80036; stroke-width: 1.0;\"/><line style=\"stroke: #A80036; stroke-width: 1.5;\" x1=\"173\" x2=\"173\" y1=\"245.9375\" y2=\"265.9375\"/><polygon fill=\"#A80036\" points=\"169,255.9375,173,265.9375,177,255.9375,173,259.9375\" style=\"stroke: #A80036; stroke-width: 1.0;\"/><line style=\"stroke: #A80036; stroke-width: 1.5;\" x1=\"173\" x2=\"173\" y1=\"83.9688\" y2=\"103.9688\"/><polygon fill=\"#A80036\" points=\"169,93.9688,173,103.9688,177,93.9688,173,97.9688\" style=\"stroke: #A80036; stroke-width: 1.0;\"/><line style=\"stroke: #A80036; stroke-width: 1.5;\" x1=\"173\" x2=\"173\" y1=\"289.9375\" y2=\"309.9375\"/><polygon fill=\"#A80036\" points=\"169,299.9375,173,309.9375,177,299.9375,173,303.9375\" style=\"stroke: #A80036; stroke-width: 1.0;\"/><line style=\"stroke: #A80036; stroke-width: 1.5;\" x1=\"173\" x2=\"173\" y1=\"343.9063\" y2=\"363.9063\"/><polygon fill=\"#A80036\" points=\"169,353.9063,173,363.9063,177,353.9063,173,357.9063\" style=\"stroke: #A80036; stroke-width: 1.0;\"/></g></svg>"
       ],
       "text": [
        "<IPython.core.display.SVG at 0x7f7c7023a290>"
       ]
      }
     ],
     "prompt_number": 16
    },
    {
     "cell_type": "markdown",
     "metadata": {},
     "source": [
      "##\ubb38\uc81c1 \ud504\ub85c\uadf8\ub7a8"
     ]
    },
    {
     "cell_type": "code",
     "collapsed": false,
     "input": [
      "def problem_1():\n",
      "    sum=0\n",
      "    for num in range(0,1000,3):\n",
      "        if not (num % 3 and num % 5): sum+=num\n",
      "    return sum\n",
      "answer=problem_1()\n",
      "print \"\ub2f5 =\",answer"
     ],
     "language": "python",
     "metadata": {},
     "outputs": [
      {
       "output_type": "stream",
       "stream": "stdout",
       "text": [
        "\ub2f5 = 166833\n"
       ]
      }
     ],
     "prompt_number": 28
    }
   ],
   "metadata": {}
  }
 ]
}