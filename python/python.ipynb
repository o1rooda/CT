{
 "metadata": {
  "name": ""
 },
 "nbformat": 3,
 "nbformat_minor": 0,
 "worksheets": [
  {
   "cells": [
    {
     "cell_type": "markdown",
     "metadata": {},
     "source": [
      "# Programming elements\n",
      "    * \ud504\ub85c\uadf8\ub798\ubc0d \uc694\uc18c\ub294 \uc785\ub825, \ucd9c\ub825, \uc21c\ucc28, \uc870\uac74, \ubc18\ubcf5, \uc7ac\uc0ac\uc6a9\ub85c \uad6c\uc131.\n",
      "    * \ud568\uc218function \ub370\uc774\ud130data\ub85c \uad6c\ud604.\n",
      "    * syntax (\ubb38\ubc95\uc624\ub958) vs logic errors (\uc608: \ubb38\ub2eb\uace0 \ub4e4\uc5b4\uc640)\n"
     ]
    },
    {
     "cell_type": "code",
     "collapsed": false,
     "input": [
      "!java -version"
     ],
     "language": "python",
     "metadata": {},
     "outputs": [
      {
       "output_type": "stream",
       "stream": "stdout",
       "text": [
        "java version \"1.7.0_79\"\r\n",
        "OpenJDK Runtime Environment (IcedTea 2.5.6) (7u79-2.5.6-0ubuntu1.14.04.1)\r\n",
        "OpenJDK 64-Bit Server VM (build 24.79-b02, mixed mode)\r\n"
       ]
      }
     ],
     "prompt_number": 36
    },
    {
     "cell_type": "code",
     "collapsed": false,
     "input": [
      "!java -jar plantuml.jar -testdot"
     ],
     "language": "python",
     "metadata": {},
     "outputs": [
      {
       "output_type": "stream",
       "stream": "stdout",
       "text": [
        "The environment variable GRAPHVIZ_DOT has not been set\r\n",
        "Dot executable is /usr/bin/dot\r\n",
        "Dot version: dot - graphviz version 2.36.0 (20140111.2315)\r\n",
        "Installation seems OK. File generation OK\r\n"
       ]
      }
     ],
     "prompt_number": 37
    },
    {
     "cell_type": "code",
     "collapsed": false,
     "input": [
      "%install_ext https://raw.githubusercontent.com/sberke/ipython-plantuml/master/plantuml_magics.py"
     ],
     "language": "python",
     "metadata": {},
     "outputs": [
      {
       "output_type": "stream",
       "stream": "stdout",
       "text": [
        "Installed plantuml_magics.py. To use it, type:\n",
        "  %load_ext plantuml_magics\n"
       ]
      }
     ],
     "prompt_number": 38
    },
    {
     "cell_type": "code",
     "collapsed": false,
     "input": [
      "%load_ext plantuml_magics"
     ],
     "language": "python",
     "metadata": {},
     "outputs": [],
     "prompt_number": 39
    },
    {
     "cell_type": "code",
     "collapsed": false,
     "input": [
      "import os\n",
      "os.environ['GRAPHVIZ_DOT']='/usr/bin/dot'\n",
      "print os.environ['GRAPHVIZ_DOT']\n",
      "!java -jar plantuml.jar -testdot"
     ],
     "language": "python",
     "metadata": {},
     "outputs": [
      {
       "output_type": "stream",
       "stream": "stdout",
       "text": [
        "/usr/bin/dot\n"
       ]
      },
      {
       "output_type": "stream",
       "stream": "stdout",
       "text": [
        "The environment variable GRAPHVIZ_DOT has been set to /usr/bin/dot\r\n",
        "Dot executable is /usr/bin/dot\r\n",
        "Dot version: dot - graphviz version 2.36.0 (20140111.2315)\r\n",
        "Installation seems OK. File generation OK\r\n"
       ]
      }
     ],
     "prompt_number": 40
    },
    {
     "cell_type": "code",
     "collapsed": false,
     "input": [
      "import glob\n",
      "glob.glob(r'./*.jar')"
     ],
     "language": "python",
     "metadata": {},
     "outputs": [
      {
       "metadata": {},
       "output_type": "pyout",
       "prompt_number": 41,
       "text": [
        "['./plantuml.jar']"
       ]
      }
     ],
     "prompt_number": 41
    },
    {
     "cell_type": "markdown",
     "metadata": {},
     "source": [
      "#\ud568\uc218\n",
      "<ul><li>\uc785\ub825\uac12\uc744 \uac00\uc9c0\uace0 \uc5b4\ub5a4 \uc77c\uc744 \uc218\ud589\ud55c \ub2e4\uc74c\uc5d0 \uacb0\uacfc\ubb3c\uc744 \ub0b4\ub193\ub294 \uac83.</li></ul>\n",
      "\n",
      "###why?\n",
      "<ul><li>\uc5ec\ub7ec\ubc88 \ubc18\ubcf5\ub418\ub294 \ubd80\ubd84\uc744 \ud55c\ubb49\uce58\ub85c \ubb36\uc5b4\uc11c \"\uc5b4\ub5a4 \uc785\ub825\uac12\uc744 \uc8fc\uc5c8\uc744 \ub54c \uc5b4\ub5a4 \ub9ac\ud134\uac12\uc744 \ub3cc\ub824\uc900\ub2e4\"\ub77c\ub294 \uc2dd\uc758 \ud568\uc218\ub97c \uc791\uc131\ud558\ub294 \uac83\uc774 \ud604\uba85\ud55c \uac83.</li></ul>\n",
      "   \n",
      "##\ud30c\uc774\uc36c \ud568\uc218\uc758 \uad6c\uc870"
     ]
    },
    {
     "cell_type": "raw",
     "metadata": {},
     "source": [
      "def \ud568\uc218\uba85(\uc785\ub825\uc778\uc218):\n",
      "    <\uc218\uc815\ud560 \ubb38\uc7a51>\n",
      "    <\uc218\uc815\ud560 \ubb38\uc7a52>\n",
      "    ..."
     ]
    },
    {
     "cell_type": "markdown",
     "metadata": {},
     "source": [
      "<ul><li>def\ub294 \ud568\uc218\ub97c \ub9cc\ub4e4 \ub54c \uc0ac\uc6a9\ud558\ub294 \uc608\uc57d\uc5b4.</li>\n",
      "<li>\ud568\uc218\uba85\uc740 \ud568\uc218\ub97c \ub9cc\ub4dc\ub294 \uc0ac\ub78c\uc774 \uc784\uc758\ub85c \ub9cc\ub4dc\ub294 \uac83. (\ubcc0\uc218\uc774\ub984\uc744\uc815\ud558\ub294\uac83\uacfc\uac19\uc740\uc774\uce58)</li>\n",
      "<li>\uc785\ub825\uc778\uc218\ub77c\ub294 \uac83\uc740 \uc774 \ud568\uc218\uc5d0 \uc785\ub825\uc73c\ub85c \ub123\uc5b4\uc8fc\ub294 \uac12.</li>\n",
      "<li>\ub2e4\uc74c\uc5d0 if,while,for \ubb38 \ub4f1\uacfc \ub9c8\ucc2c\uac00\uc9c0\ub85c\uc218\ud589\ud560\ubb38\uc7a5\uc744\uc218\ud589.</li>"
     ]
    },
    {
     "cell_type": "raw",
     "metadata": {},
     "source": [
      "def sum(a, b):\n",
      "    return a + b"
     ]
    },
    {
     "cell_type": "markdown",
     "metadata": {},
     "source": [
      "<ul><li>sum\uc774\ub77c\ub294 \uac83\uc740 \ud568\uc218\uba85\uc774\uace0 \uc785\ub825\uac12\uc774\uace0 \ub450\uac1c\uc758 \uac12\uc744 \ubc1b\uc73c\uba70 \ub9ac\ud134\uac12\uc740 \ub450 \uac1c\uc758 \uc785\ub825\uac12\uc744 \ub354\ud55c \uac12.</li>\n",
      "\n",
      "<li>\uc5ec\uae30\uc11c return\uc740 \ud568\uc218\uc758 \uacb0\uacfc \uac12\uc744 \ub3cc\ub824\uc8fc\ub294 \uba85\ub839\uc5b4.</li>"
     ]
    },
    {
     "cell_type": "code",
     "collapsed": false,
     "input": [
      "def sum(a, b):\n",
      "    return a + b\n",
      "\n",
      "#a = 3\n",
      "#b = 4\n",
      "#c = sum(a, b)\n",
      "#print c"
     ],
     "language": "python",
     "metadata": {},
     "outputs": [],
     "prompt_number": 42
    },
    {
     "cell_type": "markdown",
     "metadata": {},
     "source": [
      "##\ud568\uc218\uc758 \uc785\ub825\uac12\uacfc \ub9ac\ud134\uac12\n",
      "<li>\uc785\ub825\uac12 -----> \ud568\uc218(\ube14\ub799\ubc15\uc2a4) -----> \ub9ac\ud134\uac12</li>"
     ]
    },
    {
     "cell_type": "markdown",
     "metadata": {},
     "source": [
      "#####ex)"
     ]
    },
    {
     "cell_type": "code",
     "collapsed": false,
     "input": [
      "def sum(a, b): \n",
      "    result = a + b \n",
      "    return result\n",
      "\n",
      "#a = sum(2,3)\n",
      "#print(a)\n",
      "#print a"
     ],
     "language": "python",
     "metadata": {},
     "outputs": [],
     "prompt_number": 43
    },
    {
     "cell_type": "markdown",
     "metadata": {},
     "source": [
      "##\ud568\uc218 \ub0b4\uc5d0\uc11c \uc120\uc5b8\ub41c \ubcc0\uc218\uc758 \ud6a8\ub825 \ubc94\uc704"
     ]
    },
    {
     "cell_type": "raw",
     "metadata": {},
     "source": [
      "a = 1\n",
      "def vartest(a):\n",
      "    a = a + 1\n",
      "    \n",
      "vartest(a)\n",
      "print(a)"
     ]
    },
    {
     "cell_type": "markdown",
     "metadata": {},
     "source": [
      "<li>a\ub77c\ub294 \ubcc0\uc218\ub97c \uc0dd\uc131\ud558\uace0 1\uc744 \ub300\uc785.</li>\n",
      "<li>\uc785\ub825\uc73c\ub85c \ub4e4\uc5b4\uc628 \uac12\uc744 1\ub9cc\ud07c \ub354\ud574\uc900\ub2e4.</li>\n",
      "<li>return\uac12\uc744 \ub3cc\ub824\uc8fc\uc9c0 \uc54a\ub294\ub2e4.</li>\n",
      "<li>vartest \ud568\uc218\uc5d0 \uc785\ub825\uac12 a</li>"
     ]
    },
    {
     "cell_type": "markdown",
     "metadata": {},
     "source": [
      "\uc704\uc5d0\uc11c \ubcc0\uc218\uc774\ub984\uc744 a \ub85c\ud55c vartest\ud568\uc218\ub294 \ub2e4\uc74c\ucc98\ub7fc \ubcc0\uc218\uc774\ub984\uc744 b\ub85c\ud55c vartest\uc640 \uc644\uc804\ud788 \ub3d9\uc77c."
     ]
    },
    {
     "cell_type": "raw",
     "metadata": {},
     "source": [
      "def vartest(b): \n",
      "    b = b + 1"
     ]
    },
    {
     "cell_type": "markdown",
     "metadata": {},
     "source": [
      "** \uc989 \ud568\uc218\uc5d0\uc11c \uc4f0\uc774\ub294 \ubcc0\uc218\ub294 \ud568\uc218 \ubc16\uc758 \ubcc0\uc218\uc774\ub984\ub4e4\uacfc\ub294 \uc804\ud600 \uc0c1\uad00 \uc5c6\ub2e4. \ub530\ub77c\uc11c \uc704\uc5d0\uc11c \ubcf4\uc558\ub358 vartest\uc758 a\ub294 1\uc774\ub780 \uac12\uc744 \uc785\ub825\uc73c\ub85c \ubc1b\uc544\uc11c 1\ub9cc\ud07c \ub354\ud574\uc8fc\uc5b4 a\uac00 2\uac00 \ub418\uc9c0\ub9cc \uadf8\uac83\uc740 \ud568\uc218 \ub0b4\uc758 a\ub97c \ub73b\ud558\ub294 \uac83\uc774\uc9c0 \ud568\uc218 \ubc16\uc758 \ubcc0\uc218 a\uc640\ub294 \uc804\ud600 \ub2e4\ub974\ub2e4\ub294 \ub9d0\uc774\ub2e4."
     ]
    },
    {
     "cell_type": "code",
     "collapsed": false,
     "input": [
      "def vartest(i): \n",
      "    i = i + 1\n",
      "    \n",
      "vartest(6) \n",
      "#print(i)"
     ],
     "language": "python",
     "metadata": {},
     "outputs": [],
     "prompt_number": 44
    },
    {
     "cell_type": "markdown",
     "metadata": {},
     "source": [
      "vartest\ub77c\ub294 \ud568\uc218\ub97c \uc774\uc6a9\ud574\uc11c \ud568\uc218 \uc678\ubd80\uc758 a\ub97c 1\ub9cc\ud07c \uc99d\uac00 \uc2dc\ud0ac \uc218 \uc788\ub294 \ubc29\ubc95"
     ]
    },
    {
     "cell_type": "markdown",
     "metadata": {},
     "source": [
      "####\uccab \ubc88\uc9f8 \ubc29\ubc95"
     ]
    },
    {
     "cell_type": "code",
     "collapsed": false,
     "input": [
      "a = 1\n",
      "def vartest(a): \n",
      "    a = a + 1 \n",
      "    return a\n",
      "\n",
      "#print a\n",
      "#a = vartest(a) \n",
      "#print(a)"
     ],
     "language": "python",
     "metadata": {},
     "outputs": [],
     "prompt_number": 45
    },
    {
     "cell_type": "markdown",
     "metadata": {},
     "source": [
      "<li>return\uc744 \uc774\uc6a9\ud558\ub294 \ubc29\ubc95.</li>\n",
      "<li>vartest\ud568\uc218\ub294 \uc785\ub825\uc73c\ub85c \ub4e4\uc5b4\uc628 \uac12\uc744 1\ub9cc\ud07c \ub354\ud55c \uac12\uc744 \ub3cc\ub824\uc90c.</li>\n",
      "<li>\ub530\ub77c\uc11c a = vartest(a)\ucc98\ub7fc \ud558\uba74 a\uac00 vartest\ud568\uc218\uc758 \ub9ac\ud134\uac12\uc73c\ub85c \ubc14\ub01c.</li>\n",
      "<li>vartest\ud568\uc218 \uc548\uc758 a\ubcc0\uc218\ub294 \ud568\uc218 \ubc16\uc758 a\uc640\ub294 \ub2e4\ub978 \uac83.</li>"
     ]
    },
    {
     "cell_type": "markdown",
     "metadata": {},
     "source": [
      "####\ub450 \ubc88\uc9f8 \ubc29\ubc95"
     ]
    },
    {
     "cell_type": "code",
     "collapsed": false,
     "input": [
      "a = 1 \n",
      "def vartest(): \n",
      "    global a \n",
      "    a = a+1\n",
      "\n",
      "vartest() \n",
      "print(a)"
     ],
     "language": "python",
     "metadata": {},
     "outputs": [
      {
       "output_type": "stream",
       "stream": "stdout",
       "text": [
        "2\n"
       ]
      }
     ],
     "prompt_number": 46
    },
    {
     "cell_type": "markdown",
     "metadata": {},
     "source": [
      "<li>global\uc774\ub77c\ub294 \uba85\ub839\uc5b4\ub97c \uc774\uc6a9\ud558\ub294 \ubc29\ubc95.</li>\n",
      "<li>\uc704\uc758 \uc608\uc5d0\uc11c \ubcf4\ub4ef\uc774 vartest\uc548\uc758 global a\ub77c\ub294 \ubb38\uc7a5\uc740 \ud568\uc218 \uc548\uc5d0\uc11c \ud568\uc218 \ubc16\uc758 a\ubcc0\uc218\ub97c \uc9c1\uc811 \uc0ac\uc6a9\ud558\uaca0\ub2e4\ub294 \ub9d0.</li>\n",
      "\n",
      "** \ubcf4\ud1b5 \ud504\ub85c\uadf8\ub798\ubc0d\uc744 \ud560 \ub54c global\uc774\ub77c\ub294 \uac83\uc740 \uc4f0\uc9c0 \uc54a\ub294 \uac83\uc774 \uc88b\ub2e4."
     ]
    },
    {
     "cell_type": "markdown",
     "metadata": {},
     "source": [
      "##\ubb38\uc81c 1 : \uc628\ub3c4\ub97c \uc785\ub825\ubc1b\uc544\uc11c F-C \ubcc0\ud658\n",
      "* \ub09c\uc774\ub3c41\n",
      "* \ud504\ub85c\uadf8\ub798\ubc0d \uc694\uc18c: if, \uc0ac\uc6a9\uc790 \uc785\ub825, \ub370\uc774\ud130\ud615(\ubb38\uc790\uc5f4,\uc815\uc218,\uc18c\uc218), \ud654\uba74\ucd9c\ub825"
     ]
    },
    {
     "cell_type": "code",
     "collapsed": false,
     "input": [
      "%%plantuml\n",
      "@startuml\n",
      "start\n",
      ":get user input F or C;\n",
      ":get user input temperature;\n",
      "if (user input F) then (F)\n",
      "    :convert F to C;\n",
      "elseif(user input C) then(C)\n",
      "    :convert C to F;\n",
      "else(neither F nor C)\n",
      ":print \"user input error\";\n",
      "endif\n",
      ":print result;\n",
      "stop\n",
      "@enduml"
     ],
     "language": "python",
     "metadata": {},
     "outputs": [
      {
       "metadata": {},
       "output_type": "pyout",
       "prompt_number": 47,
       "svg": [
        "<svg height=\"369px\" style=\"width:433px;height:369px;\" version=\"1.1\" viewBox=\"0 0 433 369\" width=\"433px\" xmlns=\"http://www.w3.org/2000/svg\" xmlns:xlink=\"http://www.w3.org/1999/xlink\"><defs><filter height=\"300%\" id=\"f1\" width=\"300%\" x=\"-1\" y=\"-1\"><feGaussianBlur result=\"blurOut\" stdDeviation=\"2.0\"/><feColorMatrix in=\"blurOut\" result=\"blurOut2\" type=\"matrix\" values=\"0 0 0 0 0 0 0 0 0 0 0 0 0 0 0 0 0 0 .4 0\"/><feOffset dx=\"4.0\" dy=\"4.0\" in=\"blurOut2\" result=\"blurOut3\"/><feBlend in=\"SourceGraphic\" in2=\"blurOut3\" mode=\"normal\"/></filter></defs><g><ellipse cx=\"218\" cy=\"20\" fill=\"#000000\" filter=\"url(#f1)\" rx=\"10\" ry=\"10\" style=\"stroke: none; stroke-width: 1.0;\"/><rect fill=\"#FEFECE\" filter=\"url(#f1)\" height=\"33.9688\" rx=\"12.5\" ry=\"12.5\" style=\"stroke: #A80036; stroke-width: 1.5;\" width=\"149\" x=\"143.5\" y=\"50\"/><text fill=\"#000000\" font-family=\"sans-serif\" font-size=\"12\" lengthAdjust=\"spacingAndGlyphs\" textLength=\"129\" x=\"153.5\" y=\"71.1387\">get user input F or C</text><rect fill=\"#FEFECE\" filter=\"url(#f1)\" height=\"33.9688\" rx=\"12.5\" ry=\"12.5\" style=\"stroke: #A80036; stroke-width: 1.5;\" width=\"192\" x=\"122\" y=\"103.9688\"/><text fill=\"#000000\" font-family=\"sans-serif\" font-size=\"12\" lengthAdjust=\"spacingAndGlyphs\" textLength=\"172\" x=\"132\" y=\"125.1074\">get user input temperature</text><polygon fill=\"#FEFECE\" filter=\"url(#f1)\" points=\"29.5,157.9375,97.5,157.9375,109.5,169.9375,97.5,181.9375,29.5,181.9375,17.5,169.9375,29.5,157.9375\" style=\"stroke: #A80036; stroke-width: 1.5;\"/><text fill=\"#000000\" font-family=\"sans-serif\" font-size=\"11\" lengthAdjust=\"spacingAndGlyphs\" textLength=\"6\" x=\"67.5\" y=\"192.1479\">F</text><text fill=\"#000000\" font-family=\"sans-serif\" font-size=\"11\" lengthAdjust=\"spacingAndGlyphs\" textLength=\"68\" x=\"29.5\" y=\"173.7456\">user input F</text><rect fill=\"#FEFECE\" filter=\"url(#f1)\" height=\"33.9688\" rx=\"12.5\" ry=\"12.5\" style=\"stroke: #A80036; stroke-width: 1.5;\" width=\"107\" x=\"10\" y=\"214.7422\"/><text fill=\"#000000\" font-family=\"sans-serif\" font-size=\"12\" lengthAdjust=\"spacingAndGlyphs\" textLength=\"87\" x=\"20\" y=\"235.8809\">convert F to C</text><polygon fill=\"#FEFECE\" filter=\"url(#f1)\" points=\"155.5,157.9375,225.5,157.9375,237.5,169.9375,225.5,181.9375,155.5,181.9375,143.5,169.9375,155.5,157.9375\" style=\"stroke: #A80036; stroke-width: 1.5;\"/><text fill=\"#000000\" font-family=\"sans-serif\" font-size=\"11\" lengthAdjust=\"spacingAndGlyphs\" textLength=\"8\" x=\"194.5\" y=\"192.1479\">C</text><text fill=\"#000000\" font-family=\"sans-serif\" font-size=\"11\" lengthAdjust=\"spacingAndGlyphs\" textLength=\"70\" x=\"155.5\" y=\"173.7456\">user input C</text><text fill=\"#000000\" font-family=\"sans-serif\" font-size=\"11\" lengthAdjust=\"spacingAndGlyphs\" textLength=\"85\" x=\"237.5\" y=\"167.3433\">neither F nor C</text><rect fill=\"#FEFECE\" filter=\"url(#f1)\" height=\"33.9688\" rx=\"12.5\" ry=\"12.5\" style=\"stroke: #A80036; stroke-width: 1.5;\" width=\"107\" x=\"137\" y=\"214.7422\"/><text fill=\"#000000\" font-family=\"sans-serif\" font-size=\"12\" lengthAdjust=\"spacingAndGlyphs\" textLength=\"87\" x=\"147\" y=\"235.8809\">convert C to F</text><rect fill=\"#FEFECE\" filter=\"url(#f1)\" height=\"33.9688\" rx=\"12.5\" ry=\"12.5\" style=\"stroke: #A80036; stroke-width: 1.5;\" width=\"162\" x=\"264\" y=\"211.3398\"/><text fill=\"#000000\" font-family=\"sans-serif\" font-size=\"12\" lengthAdjust=\"spacingAndGlyphs\" textLength=\"142\" x=\"274\" y=\"232.4785\">print &quot;user input error&quot;</text><rect fill=\"#FEFECE\" filter=\"url(#f1)\" height=\"33.9688\" rx=\"12.5\" ry=\"12.5\" style=\"stroke: #A80036; stroke-width: 1.5;\" width=\"89\" x=\"173.5\" y=\"288.7109\"/><text fill=\"#000000\" font-family=\"sans-serif\" font-size=\"12\" lengthAdjust=\"spacingAndGlyphs\" textLength=\"69\" x=\"183.5\" y=\"309.8496\">print result</text><ellipse cx=\"218\" cy=\"352.6797\" fill=\"none\" filter=\"url(#f1)\" rx=\"10\" ry=\"10\" style=\"stroke: #000000; stroke-width: 1.0;\"/><ellipse cx=\"218.5\" cy=\"353.1797\" fill=\"#000000\" filter=\"url(#f1)\" rx=\"6\" ry=\"6\" style=\"stroke: none; stroke-width: 1.0;\"/><line style=\"stroke: #A80036; stroke-width: 1.5;\" x1=\"218\" x2=\"218\" y1=\"30\" y2=\"50\"/><polygon fill=\"#A80036\" points=\"214,40,218,50,222,40,218,44\" style=\"stroke: #A80036; stroke-width: 1.0;\"/><line style=\"stroke: #A80036; stroke-width: 1.5;\" x1=\"218\" x2=\"218\" y1=\"83.9688\" y2=\"103.9688\"/><polygon fill=\"#A80036\" points=\"214,93.9688,218,103.9688,222,93.9688,218,97.9688\" style=\"stroke: #A80036; stroke-width: 1.0;\"/><line style=\"stroke: #A80036; stroke-width: 1.5;\" x1=\"63.5\" x2=\"63.5\" y1=\"181.9375\" y2=\"214.7422\"/><polygon fill=\"#A80036\" points=\"59.5,204.7422,63.5,214.7422,67.5,204.7422,63.5,208.7422\" style=\"stroke: #A80036; stroke-width: 1.0;\"/><line style=\"stroke: #A80036; stroke-width: 1.5;\" x1=\"63.5\" x2=\"63.5\" y1=\"248.7109\" y2=\"268.7109\"/><polygon fill=\"#A80036\" points=\"59.5,258.7109,63.5,268.7109,67.5,258.7109,63.5,262.7109\" style=\"stroke: #A80036; stroke-width: 1.0;\"/><line style=\"stroke: #A80036; stroke-width: 1.5;\" x1=\"190.5\" x2=\"190.5\" y1=\"181.9375\" y2=\"214.7422\"/><polygon fill=\"#A80036\" points=\"186.5,204.7422,190.5,214.7422,194.5,204.7422,190.5,208.7422\" style=\"stroke: #A80036; stroke-width: 1.0;\"/><line style=\"stroke: #A80036; stroke-width: 1.5;\" x1=\"190.5\" x2=\"190.5\" y1=\"248.7109\" y2=\"268.7109\"/><polygon fill=\"#A80036\" points=\"186.5,258.7109,190.5,268.7109,194.5,258.7109,190.5,262.7109\" style=\"stroke: #A80036; stroke-width: 1.0;\"/><line style=\"stroke: #A80036; stroke-width: 1.5;\" x1=\"109.5\" x2=\"143.5\" y1=\"169.9375\" y2=\"169.9375\"/><polygon fill=\"#A80036\" points=\"133.5,165.9375,143.5,169.9375,133.5,173.9375,137.5,169.9375\" style=\"stroke: #A80036; stroke-width: 1.0;\"/><line style=\"stroke: #A80036; stroke-width: 1.5;\" x1=\"218\" x2=\"218\" y1=\"137.9375\" y2=\"142.9375\"/><line style=\"stroke: #A80036; stroke-width: 1.5;\" x1=\"218\" x2=\"63.5\" y1=\"142.9375\" y2=\"142.9375\"/><line style=\"stroke: #A80036; stroke-width: 1.5;\" x1=\"63.5\" x2=\"63.5\" y1=\"142.9375\" y2=\"157.9375\"/><polygon fill=\"#A80036\" points=\"59.5,147.9375,63.5,157.9375,67.5,147.9375,63.5,151.9375\" style=\"stroke: #A80036; stroke-width: 1.0;\"/><line style=\"stroke: #A80036; stroke-width: 1.5;\" x1=\"237.5\" x2=\"345\" y1=\"169.9375\" y2=\"169.9375\"/><line style=\"stroke: #A80036; stroke-width: 1.5;\" x1=\"345\" x2=\"345\" y1=\"169.9375\" y2=\"211.3398\"/><polygon fill=\"#A80036\" points=\"341,201.3398,345,211.3398,349,201.3398,345,205.3398\" style=\"stroke: #A80036; stroke-width: 1.0;\"/><line style=\"stroke: #A80036; stroke-width: 1.5;\" x1=\"345\" x2=\"345\" y1=\"245.3086\" y2=\"268.7109\"/><polygon fill=\"#A80036\" points=\"341,258.7109,345,268.7109,349,258.7109,345,262.7109\" style=\"stroke: #A80036; stroke-width: 1.0;\"/><line style=\"stroke: #A80036; stroke-width: 1.5;\" x1=\"63.5\" x2=\"345\" y1=\"268.7109\" y2=\"268.7109\"/><line style=\"stroke: #A80036; stroke-width: 1.5;\" x1=\"218\" x2=\"218\" y1=\"268.7109\" y2=\"288.7109\"/><polygon fill=\"#A80036\" points=\"214,278.7109,218,288.7109,222,278.7109,218,282.7109\" style=\"stroke: #A80036; stroke-width: 1.0;\"/><line style=\"stroke: #A80036; stroke-width: 1.5;\" x1=\"218\" x2=\"218\" y1=\"322.6797\" y2=\"342.6797\"/><polygon fill=\"#A80036\" points=\"214,332.6797,218,342.6797,222,332.6797,218,336.6797\" style=\"stroke: #A80036; stroke-width: 1.0;\"/></g></svg>"
       ],
       "text": [
        "<IPython.core.display.SVG at 0x7f479c0b4590>"
       ]
      }
     ],
     "prompt_number": 47
    },
    {
     "cell_type": "markdown",
     "metadata": {},
     "source": [
      "###\uc0ac\uc6a9\uc790\uc5d0\uac8c\uc11c \uc785\ub825 \ubc1b\uae30\n",
      "* input\n",
      "<ul>\n",
      "<li>\uc0ac\uc6a9\uc790 \uc785\ub825 \uac12\uc744 \ubc1b\uc544\uc11c \ud30c\uc774\uc36c \uba85\ub839\uc5b4\ub85c \uc2e4\ud589.</li>\n",
      "<li>eval(raw_input(prompt))\uc640 \ub3d9\uc77c\ud55c \uc758\ubbf8. \uc0ac\uc6a9\uc790\uc5d0\uac8c \uc785\ub825\uc744 \ubc1b\uc544\uc11c \ud30c\uc774\uc36c \uba85\ub839\uc5b4\ub85c \uc2e4\ud589\ud55c\ub2e4\ub294 \uc758\ubbf8.</li>\n",
      "<li>\uc218\ub97c\uc785\ub825\ud560\uacbd\uc6b0\uc5d0\ub294\uadf8\ub0e5,\ubb38\uc790\ub294\ub530\uc634\ud45c</li>\n",
      "<li>\uc0ac\uc6a9\uc790\uac00 \uc785\ub825\uc744 \uc798 \ubabb\ud558\uba74 \uc624\ub958\uac00 \ub0a8.</li>\n",
      "</ul>\n",
      "\n",
      "* raw_imput\n",
      "<ul>\n",
      "<li>\uc0ac\uc6a9\uc790 \uc785\ub825 \uac12\uc744 \ubc1b\uc544\uc11c \ubb38\uc790\uc5f4\ub85c \uadf8 \uac12\uc744 \ub3cc\ub824\uc90c.</li>\n",
      "</ul>\n",
      "\n",
      "* 2 + 1\uc744 \uc785\ub825\ud558\uba74 input\uc740 \uc5f0\uc0b0\uc744 \ud574\uc11c \uadf8 \uacb0\uacfc 3\uc744, \uadf8\ub7ec\ub098 raw_input\uc740 \uc5f0\uc0b0\uc744 \ud558\uc9c0\uc54a\uace0 '2+1'\uc744 \ubb38\uc790\uc5f4\ub85c \ub3cc\ub824\uc90c."
     ]
    },
    {
     "cell_type": "code",
     "collapsed": false,
     "input": [
      "cmd =input(\"\uc785\ub825\ud558\uc138\uc694: \")\n",
      "print cmd\n",
      "sel = raw_input('\uc785\ub825\uc744 \uace0\ub974\uc138\uc694:')\n",
      "print sel"
     ],
     "language": "python",
     "metadata": {},
     "outputs": [
      {
       "name": "stdout",
       "output_type": "stream",
       "stream": "stdout",
       "text": [
        "\uc785\ub825\ud558\uc138\uc694: 1+2\n"
       ]
      },
      {
       "output_type": "stream",
       "stream": "stdout",
       "text": [
        "3\n"
       ]
      },
      {
       "name": "stdout",
       "output_type": "stream",
       "stream": "stdout",
       "text": [
        "\uc785\ub825\uc744 \uace0\ub974\uc138\uc694:1+2\n"
       ]
      },
      {
       "output_type": "stream",
       "stream": "stdout",
       "text": [
        "1+2\n"
       ]
      }
     ],
     "prompt_number": 11
    },
    {
     "cell_type": "markdown",
     "metadata": {},
     "source": [
      "###\ud654\uba74\ucd9c\ub825 \uac12\uc758 \uc774\ud574\n",
      "<ul>\n",
      "<li>print \"%d\", 12.3\ub294 \uc815\uc218\ub85c \ud615\ubcc0\ud658\uc744 \ud574\uc11c \ucd9c\ub825\uc744 \ud558\ubbc0\ub85c 12.</li>\n",
      "<li>print \"%s\", 12.3\ub294 \ubb38\uc790\uc5f4\ub85c \ud615\ubcc0\ud658\uc744 \ud574\uc11c \ucd9c\ub825\ud558\ubbc0\ub85c \uc22b\uc790\uac00 \uc544\ub2cc \ubb38\uc790\uc5f4 12.3.</li>\n",
      "<li>print \"%.2f\", 12.3\ub294 \uc18c\uc218\uc810 2\uc790\ub9ac\ub85c \ucd9c\ub825\uc744 \ud558\ubbc0\ub85c 12.30.</li>\n",
      "<li>\ud30c\uc774\uc36c 2.6\ubd80\ud130\ub294 .format\uc774\ub780 \uba85\ub839\uc5b4 \uc9c0\uc6d0<ul>\n",
      "<li>{0:d} 0\ubc88\uc9f8 \uc785\ub825 \uac12\uc744 \uc815\uc218\ub85c \ucd9c\ub825</li>\n",
      "<li>{1:s} 1\ubc88\uc9f8 \uc785\ub825 \uac12\uc744 \ubb38\uc790\uc5f4\ub85c \ucd9c\ub825</li>\n",
      "<li>{2:.2f} 2\ubc88\uc9f8 \uc785\ub825 \uac12\uc744 \uc18c\uc218\uc810 2\uc790\ub9ac\ub85c \ucd9c\ub825</li>\n",
      "<li>\ub2e8 \uc785\ub825 \uac12\uc758 \ub370\uc774\ud130\ud615\uc774 \ub9de\uc9c0 \uc54a\uc744 \uacbd\uc6b0 \uc624\ub958\uac00 \ubc1c\uc0dd\ud558\ubbc0\ub85c, \ud615\ubcc0\ud658\uc744 \ud574\uc8fc\uc5b4\uc57c \ud568.</li>\n",
      "</ul>\n",
      "</li>\n",
      "</ul>"
     ]
    },
    {
     "cell_type": "code",
     "collapsed": false,
     "input": [
      "print \"%d\" % 12.3\n",
      "print \"%s\" %12.3\n",
      "print \"%.2f\" % 12.3\n",
      "print \"\uccab \ubc88\uc9f8 {0:d} \ub450 \ubc88\uc9f8 {1:s} \uc138 \ubc88\uc9f8 {2:.2f}\".format(int(12.3),str(12.3),12.3)"
     ],
     "language": "python",
     "metadata": {},
     "outputs": [
      {
       "output_type": "stream",
       "stream": "stdout",
       "text": [
        "12\n",
        "12.3\n",
        "12.30\n",
        "\uccab \ubc88\uc9f8 12 \ub450 \ubc88\uc9f8 12.3 \uc138 \ubc88\uc9f8 12.30\n"
       ]
      }
     ],
     "prompt_number": 12
    },
    {
     "cell_type": "code",
     "collapsed": false,
     "input": [
      "sel = raw_input('\uc785\ub825\ud558\uc138\uc694 (F \ub610\ub294 C): ')\n",
      "temp = raw_input('\uc628\ub3c4\ub97c \uc785\ub825\ud558\uc138\uc694: ')\n",
      "print \"\uc120\ud0dd\ud55c \uac12\uc740: \",sel\n",
      "print \"\uc785\ub825\ud55c \uc628\ub3c4\ub294: %s\" % temp"
     ],
     "language": "python",
     "metadata": {},
     "outputs": [
      {
       "name": "stdout",
       "output_type": "stream",
       "stream": "stdout",
       "text": [
        "\uc785\ub825\ud558\uc138\uc694 (F \ub610\ub294 C): F\n"
       ]
      },
      {
       "name": "stdout",
       "output_type": "stream",
       "stream": "stdout",
       "text": [
        "\uc628\ub3c4\ub97c \uc785\ub825\ud558\uc138\uc694: 10\n"
       ]
      },
      {
       "output_type": "stream",
       "stream": "stdout",
       "text": [
        "\uc120\ud0dd\ud55c \uac12\uc740:  F\n",
        "\uc785\ub825\ud55c \uc628\ub3c4\ub294: 10\n"
       ]
      }
     ],
     "prompt_number": 13
    },
    {
     "cell_type": "code",
     "collapsed": false,
     "input": [
      "sel = raw_input('\uc785\ub825\ud558\uc138\uc694 (F \ub610\ub294 C):')\n",
      "temp = raw_input('\uc628\ub3c4\ub97c \uc785\ub825\ud558\uc138\uc694:')\n",
      "temperature = int(temp)\n",
      "if sel=='F':\n",
      "    res=(temperature-32)*5/9.0\n",
      "elif sel=='C':\n",
      "    res=temperature*9.0/5.0+32\n",
      "else:\n",
      "    print \"\uc120\ud0dd\uc740 F\ub610\ub294 C\uc774\uc5b4\uc57c \ud569\ub2c8\ub2e4.\"\n",
      "print \"{0:d}{1:s}\ub97c \ubcc0\ud658\ud558\uba74 {2:.2f}\uc785\ub2c8\ub2e4\".format(temperature,sel,res)"
     ],
     "language": "python",
     "metadata": {},
     "outputs": [
      {
       "name": "stdout",
       "output_type": "stream",
       "stream": "stdout",
       "text": [
        "\uc785\ub825\ud558\uc138\uc694 (F \ub610\ub294 C):F\n"
       ]
      },
      {
       "name": "stdout",
       "output_type": "stream",
       "stream": "stdout",
       "text": [
        "\uc628\ub3c4\ub97c \uc785\ub825\ud558\uc138\uc694:50\n"
       ]
      },
      {
       "output_type": "stream",
       "stream": "stdout",
       "text": [
        "50F\ub97c \ubcc0\ud658\ud558\uba74 10.00\uc785\ub2c8\ub2e4\n"
       ]
      }
     ],
     "prompt_number": 14
    },
    {
     "cell_type": "markdown",
     "metadata": {},
     "source": [
      "###\ud568\uc218\ub85c \ubcc0\ud658\n",
      "<ul>\n",
      "<li>\ud568\uc218\uc758 \uc785\ub825 \uac12, \ucd9c\ub825 \uac12\uc744 \uc815\uc758\ud574 \uc90c. \uc785\ub825 \ubcc0\uc218\uba85, \ucd9c\ub825 \ubcc0\uc218\uba85\uc774 \ubc18\ub4dc\uc2dc \uac19\uc744 \ud544\uc694\uac00 \uc5c6\uc2b4.</li>\n",
      "<li>\ud568\uc218\ub97c \uc0ac\uc6a9\ud558\uba74 \uc18c\uc2a4\ucf54\ub4dc\uac00 \ubcc0\uacbd\ub418\ub294 \ub2e8\uc810\uc774 \uc788\uc9c0\ub9cc, \uc7ac\uc0ac\uc6a9\ud560 \uc218 \uc7a5\uc810\uc774 \ub354 \ud07c.</li>\n",
      "<li>\uc544\ub798\uc5d0\uc11c res\ub97c \ubbf8\ub9ac \uc120\uc5b8\ud558\uc5ec, \ucd08\uae30\ud654\ub97c \ud558\ub3c4\ub85d \ud558\ub294 \uac83\uc774 \uc88b\uc74c.<ul>\n",
      "<li>\ud30c\uc774\uc36c\uc740 \ubcc0\uc218\uc758 \uc120\uc5b8\uc774 \ubcc4\ub3c4\ub85c \ud544\uc694\ud558\uc9c0 \uc54a\uc740 \uc5b8\uc5b4\uc774\uc9c0\ub9cc \ub2e4\ub978 \uc5b8\uc5b4\uc5d0\uc11c\ub294 \uadf8\ub807\uac8c \ud568.</li>\n",
      "<li>\ucd08\uae30\ud654\ud55c\ub2e4\ub294 \uac83\uc740 \ub370\uc774\ud130\ud615\uc5d0 \ub9de\ub294 \ubc14\uc774\ud2b8\ub9cc\ud07c\uc758 \ud06c\uae30\ub97c \ud560\ub2f9\ud55c\ub2e4\ub294 \uc758\ubbf8.</li>\n",
      "</ul>\n",
      "</li>\n",
      "</ul>"
     ]
    },
    {
     "cell_type": "code",
     "collapsed": false,
     "input": [
      "sel = raw_input('\uc785\ub825\ud558\uc138\uc694 (F \ub610\ub294 C):')\n",
      "temp = raw_input('\uc628\ub3c4\ub97c \uc785\ub825\ud558\uc138\uc694:')\n",
      "temperature = int(temp)\n",
      "\n",
      "def computeTemperature(sel,temperature):\n",
      "    #res=0.0\n",
      "    if sel=='F':\n",
      "        res=(temperature-32)*5/9.0\n",
      "    elif sel=='C':\n",
      "        res=temperature*9.0/5.0+32\n",
      "    else:\n",
      "        print \"\uc120\ud0dd\uc740 F\ub610\ub294 C\uc774\uc5b4\uc57c \ud569\ub2c8\ub2e4.\"\n",
      "    print \"{0:d}{1:s}\ub97c \ubcc0\ud658\ud558\uba74 {2:.2f}\uc785\ub2c8\ub2e4\".format(temperature,sel,res)\n",
      "    return res\n",
      "\n",
      "result=computeTemperature(sel,temperature)\n",
      "print \"{0:d}{1:s}\ub97c \ubcc0\ud658\ud558\uba74 {2:.2f}\uc785\ub2c8\ub2e4\".format(temperature,sel,result)"
     ],
     "language": "python",
     "metadata": {},
     "outputs": [
      {
       "name": "stdout",
       "output_type": "stream",
       "stream": "stdout",
       "text": [
        "\uc785\ub825\ud558\uc138\uc694 (F \ub610\ub294 C):F\n"
       ]
      },
      {
       "name": "stdout",
       "output_type": "stream",
       "stream": "stdout",
       "text": [
        "\uc628\ub3c4\ub97c \uc785\ub825\ud558\uc138\uc694:60\n"
       ]
      },
      {
       "output_type": "stream",
       "stream": "stdout",
       "text": [
        "60F\ub97c \ubcc0\ud658\ud558\uba74 15.56\uc785\ub2c8\ub2e4\n",
        "60F\ub97c \ubcc0\ud658\ud558\uba74 15.56\uc785\ub2c8\ub2e4\n"
       ]
      }
     ],
     "prompt_number": 18
    },
    {
     "cell_type": "markdown",
     "metadata": {},
     "source": [
      "###\uace0\ub824\ud560 \uc810\n",
      "<ul>\n",
      "<li>\ub300\uc18c\ubb38\uc790\uc785\ub825 - \uc0ac\uc6a9\uc790\uac00 \uc18c\ubb38\uc790 f c\ub97c \uc785\ub825\ud558\ub294 \uacbd\uc6b0</li>\n",
      "<li>\uc5f0\uc0b0\ud560 \uacbd\uc6b0 \uc18c\uc218\uc810 \ucc98\ub9ac: \uc815\uc218\ub07c\ub9ac \ub098\ub204\uba74 \ucd9c\ub825 \uac12\uc740 \uc815\uc218</li>\n",
      "<li>\uc5f0\uc0b0\uc758 \uc6b0\uc120\uc21c\uc704</li>\n",
      "<li>\uacb0\uacfc \uac12\uc774 \uc12d\uc528(C)\uc778\uc9c0 \ud654\uc528(F)\uc778\uc9c0 \ud45c\uc2dc.</li>\n",
      "</ul>"
     ]
    },
    {
     "cell_type": "markdown",
     "metadata": {},
     "source": [
      "##\ubb38\uc81c 2 : \uc131\uc801\uc744 \uc785\ub825\ubc1b\uc544 A ~ F \ud559\uc810 \ucc98\ub9ac\n",
      "<ul><li>\ub09c\uc774\ub3c4 1 </li>\n",
      "<li>\ubb38\uc81c 1 \uc628\ub3c4\ubcc0\ud658 \ucc38\uc870</li></ul>"
     ]
    },
    {
     "cell_type": "code",
     "collapsed": false,
     "input": [
      "%%plantuml\n",
      "@startuml\n",
      "start\n",
      ":get user input marks;\n",
      "if (90=<marks=<100)\n",
      "    :grade=A;\n",
      "elseif(80<=marks<90)\n",
      "    :grade=B;\n",
      "elseif(70<=marks<80)\n",
      "    :grade=C;\n",
      "elseif(60<=marks<70)\n",
      "    :grade=D;\n",
      "else\n",
      "    :grade=F;\n",
      "endif\n",
      "    :print grade;\n",
      "stop\n",
      "@enduml"
     ],
     "language": "python",
     "metadata": {},
     "outputs": [
      {
       "metadata": {},
       "output_type": "pyout",
       "prompt_number": 19,
       "svg": [
        "<svg height=\"305px\" style=\"width:647px;height:305px;\" version=\"1.1\" viewBox=\"0 0 647 305\" width=\"647px\" xmlns=\"http://www.w3.org/2000/svg\" xmlns:xlink=\"http://www.w3.org/1999/xlink\"><defs><filter height=\"300%\" id=\"f1\" width=\"300%\" x=\"-1\" y=\"-1\"><feGaussianBlur result=\"blurOut\" stdDeviation=\"2.0\"/><feColorMatrix in=\"blurOut\" result=\"blurOut2\" type=\"matrix\" values=\"0 0 0 0 0 0 0 0 0 0 0 0 0 0 0 0 0 0 .4 0\"/><feOffset dx=\"4.0\" dy=\"4.0\" in=\"blurOut2\" result=\"blurOut3\"/><feBlend in=\"SourceGraphic\" in2=\"blurOut3\" mode=\"normal\"/></filter></defs><g><ellipse cx=\"325\" cy=\"20\" fill=\"#000000\" filter=\"url(#f1)\" rx=\"10\" ry=\"10\" style=\"stroke: none; stroke-width: 1.0;\"/><rect fill=\"#FEFECE\" filter=\"url(#f1)\" height=\"33.9688\" rx=\"12.5\" ry=\"12.5\" style=\"stroke: #A80036; stroke-width: 1.5;\" width=\"151\" x=\"249.5\" y=\"50\"/><text fill=\"#000000\" font-family=\"sans-serif\" font-size=\"12\" lengthAdjust=\"spacingAndGlyphs\" textLength=\"131\" x=\"259.5\" y=\"71.1387\">get user input marks</text><polygon fill=\"#FEFECE\" filter=\"url(#f1)\" points=\"22,103.9688,129,103.9688,141,115.9688,129,127.9688,22,127.9688,10,115.9688,22,103.9688\" style=\"stroke: #A80036; stroke-width: 1.5;\"/><text fill=\"#000000\" font-family=\"sans-serif\" font-size=\"11\" lengthAdjust=\"spacingAndGlyphs\" textLength=\"107\" x=\"22\" y=\"119.7769\">90=&lt;marks=&lt;100</text><rect fill=\"#FEFECE\" filter=\"url(#f1)\" height=\"33.9688\" rx=\"12.5\" ry=\"12.5\" style=\"stroke: #A80036; stroke-width: 1.5;\" width=\"75\" x=\"38\" y=\"147.9688\"/><text fill=\"#000000\" font-family=\"sans-serif\" font-size=\"12\" lengthAdjust=\"spacingAndGlyphs\" textLength=\"55\" x=\"48\" y=\"169.1074\">grade=A</text><polygon fill=\"#FEFECE\" filter=\"url(#f1)\" points=\"173,103.9688,264,103.9688,276,115.9688,264,127.9688,173,127.9688,161,115.9688,173,103.9688\" style=\"stroke: #A80036; stroke-width: 1.5;\"/><text fill=\"#000000\" font-family=\"sans-serif\" font-size=\"11\" lengthAdjust=\"spacingAndGlyphs\" textLength=\"91\" x=\"173\" y=\"119.7769\">80&lt;=marks&lt;90</text><rect fill=\"#FEFECE\" filter=\"url(#f1)\" height=\"33.9688\" rx=\"12.5\" ry=\"12.5\" style=\"stroke: #A80036; stroke-width: 1.5;\" width=\"75\" x=\"181\" y=\"147.9688\"/><text fill=\"#000000\" font-family=\"sans-serif\" font-size=\"12\" lengthAdjust=\"spacingAndGlyphs\" textLength=\"55\" x=\"191\" y=\"169.1074\">grade=B</text><polygon fill=\"#FEFECE\" filter=\"url(#f1)\" points=\"308,103.9688,399,103.9688,411,115.9688,399,127.9688,308,127.9688,296,115.9688,308,103.9688\" style=\"stroke: #A80036; stroke-width: 1.5;\"/><text fill=\"#000000\" font-family=\"sans-serif\" font-size=\"11\" lengthAdjust=\"spacingAndGlyphs\" textLength=\"91\" x=\"308\" y=\"119.7769\">70&lt;=marks&lt;80</text><rect fill=\"#FEFECE\" filter=\"url(#f1)\" height=\"33.9688\" rx=\"12.5\" ry=\"12.5\" style=\"stroke: #A80036; stroke-width: 1.5;\" width=\"75\" x=\"316\" y=\"147.9688\"/><text fill=\"#000000\" font-family=\"sans-serif\" font-size=\"12\" lengthAdjust=\"spacingAndGlyphs\" textLength=\"55\" x=\"326\" y=\"169.1074\">grade=C</text><polygon fill=\"#FEFECE\" filter=\"url(#f1)\" points=\"443,103.9688,534,103.9688,546,115.9688,534,127.9688,443,127.9688,431,115.9688,443,103.9688\" style=\"stroke: #A80036; stroke-width: 1.5;\"/><text fill=\"#000000\" font-family=\"sans-serif\" font-size=\"11\" lengthAdjust=\"spacingAndGlyphs\" textLength=\"91\" x=\"443\" y=\"119.7769\">60&lt;=marks&lt;70</text><rect fill=\"#FEFECE\" filter=\"url(#f1)\" height=\"33.9688\" rx=\"12.5\" ry=\"12.5\" style=\"stroke: #A80036; stroke-width: 1.5;\" width=\"76\" x=\"450.5\" y=\"147.9688\"/><text fill=\"#000000\" font-family=\"sans-serif\" font-size=\"12\" lengthAdjust=\"spacingAndGlyphs\" textLength=\"56\" x=\"460.5\" y=\"169.1074\">grade=D</text><rect fill=\"#FEFECE\" filter=\"url(#f1)\" height=\"33.9688\" rx=\"12.5\" ry=\"12.5\" style=\"stroke: #A80036; stroke-width: 1.5;\" width=\"74\" x=\"566\" y=\"150.9688\"/><text fill=\"#000000\" font-family=\"sans-serif\" font-size=\"12\" lengthAdjust=\"spacingAndGlyphs\" textLength=\"54\" x=\"576\" y=\"172.1074\">grade=F</text><rect fill=\"#FEFECE\" filter=\"url(#f1)\" height=\"33.9688\" rx=\"12.5\" ry=\"12.5\" style=\"stroke: #A80036; stroke-width: 1.5;\" width=\"90\" x=\"280\" y=\"224.9375\"/><text fill=\"#000000\" font-family=\"sans-serif\" font-size=\"12\" lengthAdjust=\"spacingAndGlyphs\" textLength=\"70\" x=\"290\" y=\"246.0762\">print grade</text><ellipse cx=\"325\" cy=\"288.9063\" fill=\"none\" filter=\"url(#f1)\" rx=\"10\" ry=\"10\" style=\"stroke: #000000; stroke-width: 1.0;\"/><ellipse cx=\"325.5\" cy=\"289.4063\" fill=\"#000000\" filter=\"url(#f1)\" rx=\"6\" ry=\"6\" style=\"stroke: none; stroke-width: 1.0;\"/><line style=\"stroke: #A80036; stroke-width: 1.5;\" x1=\"325\" x2=\"325\" y1=\"30\" y2=\"50\"/><polygon fill=\"#A80036\" points=\"321,40,325,50,329,40,325,44\" style=\"stroke: #A80036; stroke-width: 1.0;\"/><line style=\"stroke: #A80036; stroke-width: 1.5;\" x1=\"75.5\" x2=\"75.5\" y1=\"127.9688\" y2=\"147.9688\"/><polygon fill=\"#A80036\" points=\"71.5,137.9688,75.5,147.9688,79.5,137.9688,75.5,141.9688\" style=\"stroke: #A80036; stroke-width: 1.0;\"/><line style=\"stroke: #A80036; stroke-width: 1.5;\" x1=\"75.5\" x2=\"75.5\" y1=\"181.9375\" y2=\"204.9375\"/><polygon fill=\"#A80036\" points=\"71.5,194.9375,75.5,204.9375,79.5,194.9375,75.5,198.9375\" style=\"stroke: #A80036; stroke-width: 1.0;\"/><line style=\"stroke: #A80036; stroke-width: 1.5;\" x1=\"218.5\" x2=\"218.5\" y1=\"127.9688\" y2=\"147.9688\"/><polygon fill=\"#A80036\" points=\"214.5,137.9688,218.5,147.9688,222.5,137.9688,218.5,141.9688\" style=\"stroke: #A80036; stroke-width: 1.0;\"/><line style=\"stroke: #A80036; stroke-width: 1.5;\" x1=\"218.5\" x2=\"218.5\" y1=\"181.9375\" y2=\"204.9375\"/><polygon fill=\"#A80036\" points=\"214.5,194.9375,218.5,204.9375,222.5,194.9375,218.5,198.9375\" style=\"stroke: #A80036; stroke-width: 1.0;\"/><line style=\"stroke: #A80036; stroke-width: 1.5;\" x1=\"353.5\" x2=\"353.5\" y1=\"127.9688\" y2=\"147.9688\"/><polygon fill=\"#A80036\" points=\"349.5,137.9688,353.5,147.9688,357.5,137.9688,353.5,141.9688\" style=\"stroke: #A80036; stroke-width: 1.0;\"/><line style=\"stroke: #A80036; stroke-width: 1.5;\" x1=\"353.5\" x2=\"353.5\" y1=\"181.9375\" y2=\"204.9375\"/><polygon fill=\"#A80036\" points=\"349.5,194.9375,353.5,204.9375,357.5,194.9375,353.5,198.9375\" style=\"stroke: #A80036; stroke-width: 1.0;\"/><line style=\"stroke: #A80036; stroke-width: 1.5;\" x1=\"488.5\" x2=\"488.5\" y1=\"127.9688\" y2=\"147.9688\"/><polygon fill=\"#A80036\" points=\"484.5,137.9688,488.5,147.9688,492.5,137.9688,488.5,141.9688\" style=\"stroke: #A80036; stroke-width: 1.0;\"/><line style=\"stroke: #A80036; stroke-width: 1.5;\" x1=\"488.5\" x2=\"488.5\" y1=\"181.9375\" y2=\"204.9375\"/><polygon fill=\"#A80036\" points=\"484.5,194.9375,488.5,204.9375,492.5,194.9375,488.5,198.9375\" style=\"stroke: #A80036; stroke-width: 1.0;\"/><line style=\"stroke: #A80036; stroke-width: 1.5;\" x1=\"141\" x2=\"161\" y1=\"115.9688\" y2=\"115.9688\"/><polygon fill=\"#A80036\" points=\"151,111.9688,161,115.9688,151,119.9688,155,115.9688\" style=\"stroke: #A80036; stroke-width: 1.0;\"/><line style=\"stroke: #A80036; stroke-width: 1.5;\" x1=\"276\" x2=\"296\" y1=\"115.9688\" y2=\"115.9688\"/><polygon fill=\"#A80036\" points=\"286,111.9688,296,115.9688,286,119.9688,290,115.9688\" style=\"stroke: #A80036; stroke-width: 1.0;\"/><line style=\"stroke: #A80036; stroke-width: 1.5;\" x1=\"411\" x2=\"431\" y1=\"115.9688\" y2=\"115.9688\"/><polygon fill=\"#A80036\" points=\"421,111.9688,431,115.9688,421,119.9688,425,115.9688\" style=\"stroke: #A80036; stroke-width: 1.0;\"/><line style=\"stroke: #A80036; stroke-width: 1.5;\" x1=\"325\" x2=\"325\" y1=\"83.9688\" y2=\"88.9688\"/><line style=\"stroke: #A80036; stroke-width: 1.5;\" x1=\"325\" x2=\"75.5\" y1=\"88.9688\" y2=\"88.9688\"/><line style=\"stroke: #A80036; stroke-width: 1.5;\" x1=\"75.5\" x2=\"75.5\" y1=\"88.9688\" y2=\"103.9688\"/><polygon fill=\"#A80036\" points=\"71.5,93.9688,75.5,103.9688,79.5,93.9688,75.5,97.9688\" style=\"stroke: #A80036; stroke-width: 1.0;\"/><line style=\"stroke: #A80036; stroke-width: 1.5;\" x1=\"546\" x2=\"603\" y1=\"115.9688\" y2=\"115.9688\"/><line style=\"stroke: #A80036; stroke-width: 1.5;\" x1=\"603\" x2=\"603\" y1=\"115.9688\" y2=\"150.9688\"/><polygon fill=\"#A80036\" points=\"599,140.9688,603,150.9688,607,140.9688,603,144.9688\" style=\"stroke: #A80036; stroke-width: 1.0;\"/><line style=\"stroke: #A80036; stroke-width: 1.5;\" x1=\"603\" x2=\"603\" y1=\"184.9375\" y2=\"204.9375\"/><polygon fill=\"#A80036\" points=\"599,194.9375,603,204.9375,607,194.9375,603,198.9375\" style=\"stroke: #A80036; stroke-width: 1.0;\"/><line style=\"stroke: #A80036; stroke-width: 1.5;\" x1=\"75.5\" x2=\"603\" y1=\"204.9375\" y2=\"204.9375\"/><line style=\"stroke: #A80036; stroke-width: 1.5;\" x1=\"325\" x2=\"325\" y1=\"204.9375\" y2=\"224.9375\"/><polygon fill=\"#A80036\" points=\"321,214.9375,325,224.9375,329,214.9375,325,218.9375\" style=\"stroke: #A80036; stroke-width: 1.0;\"/><line style=\"stroke: #A80036; stroke-width: 1.5;\" x1=\"325\" x2=\"325\" y1=\"258.9063\" y2=\"278.9063\"/><polygon fill=\"#A80036\" points=\"321,268.9063,325,278.9063,329,268.9063,325,272.9063\" style=\"stroke: #A80036; stroke-width: 1.0;\"/></g></svg>"
       ],
       "text": [
        "<IPython.core.display.SVG at 0x7fd9723d14d0>"
       ]
      }
     ],
     "prompt_number": 19
    },
    {
     "cell_type": "markdown",
     "metadata": {},
     "source": [
      "###\uc785\ub825 \uac12\uc758 \ucc98\ub9ac\n",
      "<ul>\n",
      "<li>\uc0ac\uc6a9\uc790 \uc785\ub825 \uac12: \uc55e\uc758 \uc608\ub294 \uc815\uc218\ub85c \ubcc0\ud658. \uc810\uc218\ub294 \uc18c\uc218\uc810\uc73c\ub85c \ubcc0\ud658.</li>\n",
      "<li>if\ubb38\uc740 \ub2e4\ubd84\uae30, \uad6c\uac04\ubcc4 \uc870\uac74.</li>\n",
      "<li>\uc0ac\uc6a9\uc790 \uc785\ub825\uc774 100\uc810 \uc774\uc0c1, 0\uc810 \uc774\ud558\uc778 \uacbd\uc6b0\ub294 else\ubb38\uc5d0\uc11c \ucc98\ub9ac.</li>\n",
      "<li>\uc0ac\uc6a9\uc790 \uc785\ub825\uc774 \ubb38\uc790, \ud2b9\uc218\ubb38\uc790\ub97c \ud3ec\ud568\ud560 \uacbd\uc6b0 \ucc98\ub9ac\ud558\uc9c0 \uc54a\uace0 \uc788\uc2b4.</li>\n",
      "</ul>"
     ]
    },
    {
     "cell_type": "code",
     "collapsed": false,
     "input": [
      "marksTmp = raw_input('\uc131\uc801\uc744 \uc785\ub825\ud558\uc138\uc694 (0~100):')\n",
      "marks = float(marksTmp)\n",
      "print \"\uc785\ub825 \uac12\uc740: \",marks"
     ],
     "language": "python",
     "metadata": {},
     "outputs": [
      {
       "name": "stdout",
       "output_type": "stream",
       "stream": "stdout",
       "text": [
        "\uc131\uc801\uc744 \uc785\ub825\ud558\uc138\uc694 (0~100):55\n"
       ]
      },
      {
       "output_type": "stream",
       "stream": "stdout",
       "text": [
        "\uc785\ub825 \uac12\uc740:  55.0\n"
       ]
      }
     ],
     "prompt_number": 20
    },
    {
     "cell_type": "code",
     "collapsed": false,
     "input": [
      "marksTmp = raw_input('\uc131\uc801\uc744 \uc785\ub825\ud558\uc138\uc694 (0~100):')\n",
      "marks = float(marksTmp)\n",
      "if marks>=90 and marks<=100:\n",
      "    grade='A'\n",
      "elif marks>=80 and marks<90:\n",
      "    grade='B'\n",
      "elif marks>=70 and marks<80:\n",
      "    grade='C'\n",
      "elif marks>=60 and marks<70:\n",
      "    grade='D'\n",
      "else:\n",
      "    grade='F'\n",
      "print \"\uc785\ub825\ud55c \uc810\uc218\ub294 {0:.1f} \ud559\uc810\uc740 {1:2s}\".format(marks,grade)"
     ],
     "language": "python",
     "metadata": {},
     "outputs": [
      {
       "name": "stdout",
       "output_type": "stream",
       "stream": "stdout",
       "text": [
        "\uc131\uc801\uc744 \uc785\ub825\ud558\uc138\uc694 (0~100):55\n"
       ]
      },
      {
       "output_type": "stream",
       "stream": "stdout",
       "text": [
        "\uc785\ub825\ud55c \uc810\uc218\ub294 55.0 \ud559\uc810\uc740 F \n"
       ]
      }
     ],
     "prompt_number": 21
    },
    {
     "cell_type": "markdown",
     "metadata": {},
     "source": [
      "###\ud568\uc218\ub85c \ubcc0\ud658\n",
      "<ul>\n",
      "<li>\ud568\uc218\ub85c\uc785\ub825\uc740 marks, \ucd9c\ub825\uc740 grade.</li>\n",
      "<li>\uc0ac\uc6a9\uc790 \uc785\ub825 \uac12\uc5d0 \ud2b9\uc218\ubb38\uc790\uac00 \uc11e\uc774\uba74 \uc815\uaddc\uc2dd regexp\ub85c \ucc98\ub9ac \uac00\ub2a5.</li>\n",
      "</ul>"
     ]
    },
    {
     "cell_type": "code",
     "collapsed": false,
     "input": [
      "marksTmp = raw_input('\uc131\uc801\uc744 \uc785\ub825\ud558\uc138\uc694 (0~100):')\n",
      "marks = float(marksTmp)\n",
      "def computeGrade(marks):\n",
      "    if marks>=90 and marks<=100:\n",
      "        grade='A'\n",
      "    elif marks>=80 and marks<90:\n",
      "        grade='B'\n",
      "    elif marks>=70 and marks<80:\n",
      "        grade='C'\n",
      "    elif marks>=60 and marks<70:\n",
      "        grade='D'\n",
      "    else:\n",
      "        grade='F'\n",
      "    print \"\uc785\ub825\ud55c \uc810\uc218\ub294 {0:.1f} \ud559\uc810\uc740 {1:2s}\".format(marks,grade)\n",
      "    return grade\n",
      "\n",
      "grade=computeGrade(marks)\n",
      "print \"\uc785\ub825\ud55c \uc810\uc218\ub294 {0:.1f} \ud559\uc810\uc740 {1:2s}\".format(marks,grade)"
     ],
     "language": "python",
     "metadata": {},
     "outputs": [
      {
       "name": "stdout",
       "output_type": "stream",
       "stream": "stdout",
       "text": [
        "\uc131\uc801\uc744 \uc785\ub825\ud558\uc138\uc694 (0~100):66\n"
       ]
      },
      {
       "output_type": "stream",
       "stream": "stdout",
       "text": [
        "\uc785\ub825\ud55c \uc810\uc218\ub294 66.0 \ud559\uc810\uc740 D \n",
        "\uc785\ub825\ud55c \uc810\uc218\ub294 66.0 \ud559\uc810\uc740 D \n"
       ]
      }
     ],
     "prompt_number": 22
    },
    {
     "cell_type": "markdown",
     "metadata": {},
     "source": [
      "##\ubb38\uc81c 3 : \uac00\uc704\ubc14\uc704\ubcf4\n",
      "<ul><li>\ub09c\uc774\ub3c41</li>\n",
      "<li>\ud504\ub85c\uadf8\ub798\ubc0d\uc694\uc18c: nested if</li>\n",
      "<li>3\uac1c\uc758 \uacbd\uc6b0\ub97c \uc11c\ub85c \ube44\uad50\ud558\uac8c \ub418\ub294 \uacbd\uc6b0\uc758 if\ubb38</li>"
     ]
    },
    {
     "cell_type": "code",
     "collapsed": false,
     "input": [
      "%%plantuml\n",
      "@startuml\n",
      "start\n",
      ":get user input1;\n",
      ":get user input2;\n",
      "if (1==2) then (1==2)\n",
      "    :print \"draw\";\n",
      "elseif(1=='scissor')\n",
      "    if (2=='rock')\n",
      "        :print \"rock wins\";\n",
      "    elseif(2=='paper')\n",
      "        :print \"scissor wins\";\n",
      "    endif\n",
      "elseif(1=='rock')\n",
      "    if (2=='scissor')\n",
      "        :print \"rock wins\";\n",
      "    elseif(2=='paper')\n",
      "        :print \"paper wins\";\n",
      "    endif\n",
      "elseif(1=='paper')\n",
      "    if (2=='scissor')\n",
      "        :print \"scissor wins\";\n",
      "    elseif(2=='rock')\n",
      "        :print \"paper wins\";\n",
      "    endif\n",
      "else\n",
      "    :print \"error\";\n",
      "endif\n",
      ":print result;\n",
      "stop\n",
      "@enduml"
     ],
     "language": "python",
     "metadata": {},
     "outputs": [
      {
       "metadata": {},
       "output_type": "pyout",
       "prompt_number": 23,
       "svg": [
        "<svg height=\"450px\" style=\"width:1274px;height:450px;\" version=\"1.1\" viewBox=\"0 0 1274 450\" width=\"1274px\" xmlns=\"http://www.w3.org/2000/svg\" xmlns:xlink=\"http://www.w3.org/1999/xlink\"><defs><filter height=\"300%\" id=\"f1\" width=\"300%\" x=\"-1\" y=\"-1\"><feGaussianBlur result=\"blurOut\" stdDeviation=\"2.0\"/><feColorMatrix in=\"blurOut\" result=\"blurOut2\" type=\"matrix\" values=\"0 0 0 0 0 0 0 0 0 0 0 0 0 0 0 0 0 0 .4 0\"/><feOffset dx=\"4.0\" dy=\"4.0\" in=\"blurOut2\" result=\"blurOut3\"/><feBlend in=\"SourceGraphic\" in2=\"blurOut3\" mode=\"normal\"/></filter></defs><g><ellipse cx=\"638.5\" cy=\"20\" fill=\"#000000\" filter=\"url(#f1)\" rx=\"10\" ry=\"10\" style=\"stroke: none; stroke-width: 1.0;\"/><rect fill=\"#FEFECE\" filter=\"url(#f1)\" height=\"33.9688\" rx=\"12.5\" ry=\"12.5\" style=\"stroke: #A80036; stroke-width: 1.5;\" width=\"117\" x=\"580\" y=\"50\"/><text fill=\"#000000\" font-family=\"sans-serif\" font-size=\"12\" lengthAdjust=\"spacingAndGlyphs\" textLength=\"97\" x=\"590\" y=\"71.1387\">get user input1</text><rect fill=\"#FEFECE\" filter=\"url(#f1)\" height=\"33.9688\" rx=\"12.5\" ry=\"12.5\" style=\"stroke: #A80036; stroke-width: 1.5;\" width=\"117\" x=\"580\" y=\"103.9688\"/><text fill=\"#000000\" font-family=\"sans-serif\" font-size=\"12\" lengthAdjust=\"spacingAndGlyphs\" textLength=\"97\" x=\"590\" y=\"125.1074\">get user input2</text><polygon fill=\"#FEFECE\" filter=\"url(#f1)\" points=\"40.5,157.9375,72.5,157.9375,84.5,169.9375,72.5,181.9375,40.5,181.9375,28.5,169.9375,40.5,157.9375\" style=\"stroke: #A80036; stroke-width: 1.5;\"/><text fill=\"#000000\" font-family=\"sans-serif\" font-size=\"11\" lengthAdjust=\"spacingAndGlyphs\" textLength=\"32\" x=\"60.5\" y=\"192.1479\">1==2</text><text fill=\"#000000\" font-family=\"sans-serif\" font-size=\"11\" lengthAdjust=\"spacingAndGlyphs\" textLength=\"32\" x=\"40.5\" y=\"173.7456\">1==2</text><rect fill=\"#FEFECE\" filter=\"url(#f1)\" height=\"33.9688\" rx=\"12.5\" ry=\"12.5\" style=\"stroke: #A80036; stroke-width: 1.5;\" width=\"93\" x=\"10\" y=\"213.6479\"/><text fill=\"#000000\" font-family=\"sans-serif\" font-size=\"12\" lengthAdjust=\"spacingAndGlyphs\" textLength=\"73\" x=\"20\" y=\"234.7866\">print &quot;draw&quot;</text><polygon fill=\"#FEFECE\" filter=\"url(#f1)\" points=\"251,157.9375,324,157.9375,336,169.9375,324,181.9375,251,181.9375,239,169.9375,251,157.9375\" style=\"stroke: #A80036; stroke-width: 1.5;\"/><text fill=\"#000000\" font-family=\"sans-serif\" font-size=\"11\" lengthAdjust=\"spacingAndGlyphs\" textLength=\"73\" x=\"251\" y=\"173.7456\">1=='scissor'</text><polygon fill=\"#FEFECE\" filter=\"url(#f1)\" points=\"156,225.8433,211,225.8433,223,237.8433,211,249.8433,156,249.8433,144,237.8433,156,225.8433\" style=\"stroke: #A80036; stroke-width: 1.5;\"/><text fill=\"#000000\" font-family=\"sans-serif\" font-size=\"11\" lengthAdjust=\"spacingAndGlyphs\" textLength=\"55\" x=\"156\" y=\"241.6514\">2=='rock'</text><rect fill=\"#FEFECE\" filter=\"url(#f1)\" height=\"33.9688\" rx=\"12.5\" ry=\"12.5\" style=\"stroke: #A80036; stroke-width: 1.5;\" width=\"121\" x=\"123\" y=\"269.8433\"/><text fill=\"#000000\" font-family=\"sans-serif\" font-size=\"12\" lengthAdjust=\"spacingAndGlyphs\" textLength=\"101\" x=\"133\" y=\"290.9819\">print &quot;rock wins&quot;</text><polygon fill=\"#FEFECE\" filter=\"url(#f1)\" points=\"301,225.8433,365,225.8433,377,237.8433,365,249.8433,301,249.8433,289,237.8433,301,225.8433\" style=\"stroke: #A80036; stroke-width: 1.5;\"/><text fill=\"#000000\" font-family=\"sans-serif\" font-size=\"11\" lengthAdjust=\"spacingAndGlyphs\" textLength=\"64\" x=\"301\" y=\"241.6514\">2=='paper'</text><rect fill=\"#FEFECE\" filter=\"url(#f1)\" height=\"33.9688\" rx=\"12.5\" ry=\"12.5\" style=\"stroke: #A80036; stroke-width: 1.5;\" width=\"138\" x=\"264\" y=\"269.8433\"/><text fill=\"#000000\" font-family=\"sans-serif\" font-size=\"12\" lengthAdjust=\"spacingAndGlyphs\" textLength=\"118\" x=\"274\" y=\"290.9819\">print &quot;scissor wins&quot;</text><polygon fill=\"#FEFECE\" filter=\"url(#f1)\" points=\"605.5,157.9375,660.5,157.9375,672.5,169.9375,660.5,181.9375,605.5,181.9375,593.5,169.9375,605.5,157.9375\" style=\"stroke: #A80036; stroke-width: 1.5;\"/><text fill=\"#000000\" font-family=\"sans-serif\" font-size=\"11\" lengthAdjust=\"spacingAndGlyphs\" textLength=\"55\" x=\"605.5\" y=\"173.7456\">1=='rock'</text><polygon fill=\"#FEFECE\" filter=\"url(#f1)\" points=\"496,225.8433,569,225.8433,581,237.8433,569,249.8433,496,249.8433,484,237.8433,496,225.8433\" style=\"stroke: #A80036; stroke-width: 1.5;\"/><text fill=\"#000000\" font-family=\"sans-serif\" font-size=\"11\" lengthAdjust=\"spacingAndGlyphs\" textLength=\"73\" x=\"496\" y=\"241.6514\">2=='scissor'</text><rect fill=\"#FEFECE\" filter=\"url(#f1)\" height=\"33.9688\" rx=\"12.5\" ry=\"12.5\" style=\"stroke: #A80036; stroke-width: 1.5;\" width=\"121\" x=\"472\" y=\"269.8433\"/><text fill=\"#000000\" font-family=\"sans-serif\" font-size=\"12\" lengthAdjust=\"spacingAndGlyphs\" textLength=\"101\" x=\"482\" y=\"290.9819\">print &quot;rock wins&quot;</text><polygon fill=\"#FEFECE\" filter=\"url(#f1)\" points=\"646.5,225.8433,710.5,225.8433,722.5,237.8433,710.5,249.8433,646.5,249.8433,634.5,237.8433,646.5,225.8433\" style=\"stroke: #A80036; stroke-width: 1.5;\"/><text fill=\"#000000\" font-family=\"sans-serif\" font-size=\"11\" lengthAdjust=\"spacingAndGlyphs\" textLength=\"64\" x=\"646.5\" y=\"241.6514\">2=='paper'</text><rect fill=\"#FEFECE\" filter=\"url(#f1)\" height=\"33.9688\" rx=\"12.5\" ry=\"12.5\" style=\"stroke: #A80036; stroke-width: 1.5;\" width=\"131\" x=\"613\" y=\"269.8433\"/><text fill=\"#000000\" font-family=\"sans-serif\" font-size=\"12\" lengthAdjust=\"spacingAndGlyphs\" textLength=\"111\" x=\"623\" y=\"290.9819\">print &quot;paper wins&quot;</text><polygon fill=\"#FEFECE\" filter=\"url(#f1)\" points=\"951.5,157.9375,1015.5,157.9375,1027.5,169.9375,1015.5,181.9375,951.5,181.9375,939.5,169.9375,951.5,157.9375\" style=\"stroke: #A80036; stroke-width: 1.5;\"/><text fill=\"#000000\" font-family=\"sans-serif\" font-size=\"11\" lengthAdjust=\"spacingAndGlyphs\" textLength=\"64\" x=\"951.5\" y=\"173.7456\">1=='paper'</text><polygon fill=\"#FEFECE\" filter=\"url(#f1)\" points=\"846.5,225.8433,919.5,225.8433,931.5,237.8433,919.5,249.8433,846.5,249.8433,834.5,237.8433,846.5,225.8433\" style=\"stroke: #A80036; stroke-width: 1.5;\"/><text fill=\"#000000\" font-family=\"sans-serif\" font-size=\"11\" lengthAdjust=\"spacingAndGlyphs\" textLength=\"73\" x=\"846.5\" y=\"241.6514\">2=='scissor'</text><rect fill=\"#FEFECE\" filter=\"url(#f1)\" height=\"33.9688\" rx=\"12.5\" ry=\"12.5\" style=\"stroke: #A80036; stroke-width: 1.5;\" width=\"138\" x=\"814\" y=\"269.8433\"/><text fill=\"#000000\" font-family=\"sans-serif\" font-size=\"12\" lengthAdjust=\"spacingAndGlyphs\" textLength=\"118\" x=\"824\" y=\"290.9819\">print &quot;scissor wins&quot;</text><polygon fill=\"#FEFECE\" filter=\"url(#f1)\" points=\"1010,225.8433,1065,225.8433,1077,237.8433,1065,249.8433,1010,249.8433,998,237.8433,1010,225.8433\" style=\"stroke: #A80036; stroke-width: 1.5;\"/><text fill=\"#000000\" font-family=\"sans-serif\" font-size=\"11\" lengthAdjust=\"spacingAndGlyphs\" textLength=\"55\" x=\"1010\" y=\"241.6514\">2=='rock'</text><rect fill=\"#FEFECE\" filter=\"url(#f1)\" height=\"33.9688\" rx=\"12.5\" ry=\"12.5\" style=\"stroke: #A80036; stroke-width: 1.5;\" width=\"131\" x=\"972\" y=\"269.8433\"/><text fill=\"#000000\" font-family=\"sans-serif\" font-size=\"12\" lengthAdjust=\"spacingAndGlyphs\" textLength=\"111\" x=\"982\" y=\"290.9819\">print &quot;paper wins&quot;</text><rect fill=\"#FEFECE\" filter=\"url(#f1)\" height=\"33.9688\" rx=\"12.5\" ry=\"12.5\" style=\"stroke: #A80036; stroke-width: 1.5;\" width=\"94\" x=\"1173\" y=\"275.8433\"/><text fill=\"#000000\" font-family=\"sans-serif\" font-size=\"12\" lengthAdjust=\"spacingAndGlyphs\" textLength=\"74\" x=\"1183\" y=\"296.9819\">print &quot;error&quot;</text><rect fill=\"#FEFECE\" filter=\"url(#f1)\" height=\"33.9688\" rx=\"12.5\" ry=\"12.5\" style=\"stroke: #A80036; stroke-width: 1.5;\" width=\"89\" x=\"594\" y=\"369.812\"/><text fill=\"#000000\" font-family=\"sans-serif\" font-size=\"12\" lengthAdjust=\"spacingAndGlyphs\" textLength=\"69\" x=\"604\" y=\"390.9507\">print result</text><ellipse cx=\"638.5\" cy=\"433.7808\" fill=\"none\" filter=\"url(#f1)\" rx=\"10\" ry=\"10\" style=\"stroke: #000000; stroke-width: 1.0;\"/><ellipse cx=\"639\" cy=\"434.2808\" fill=\"#000000\" filter=\"url(#f1)\" rx=\"6\" ry=\"6\" style=\"stroke: none; stroke-width: 1.0;\"/><line style=\"stroke: #A80036; stroke-width: 1.5;\" x1=\"638.5\" x2=\"638.5\" y1=\"30\" y2=\"50\"/><polygon fill=\"#A80036\" points=\"634.5,40,638.5,50,642.5,40,638.5,44\" style=\"stroke: #A80036; stroke-width: 1.0;\"/><line style=\"stroke: #A80036; stroke-width: 1.5;\" x1=\"638.5\" x2=\"638.5\" y1=\"83.9688\" y2=\"103.9688\"/><polygon fill=\"#A80036\" points=\"634.5,93.9688,638.5,103.9688,642.5,93.9688,638.5,97.9688\" style=\"stroke: #A80036; stroke-width: 1.0;\"/><line style=\"stroke: #A80036; stroke-width: 1.5;\" x1=\"183.5\" x2=\"183.5\" y1=\"249.8433\" y2=\"269.8433\"/><polygon fill=\"#A80036\" points=\"179.5,259.8433,183.5,269.8433,187.5,259.8433,183.5,263.8433\" style=\"stroke: #A80036; stroke-width: 1.0;\"/><line style=\"stroke: #A80036; stroke-width: 1.5;\" x1=\"183.5\" x2=\"183.5\" y1=\"303.812\" y2=\"329.812\"/><polygon fill=\"#A80036\" points=\"179.5,319.812,183.5,329.812,187.5,319.812,183.5,323.812\" style=\"stroke: #A80036; stroke-width: 1.0;\"/><line style=\"stroke: #A80036; stroke-width: 1.5;\" x1=\"333\" x2=\"333\" y1=\"249.8433\" y2=\"269.8433\"/><polygon fill=\"#A80036\" points=\"329,259.8433,333,269.8433,337,259.8433,333,263.8433\" style=\"stroke: #A80036; stroke-width: 1.0;\"/><line style=\"stroke: #A80036; stroke-width: 1.5;\" x1=\"333\" x2=\"333\" y1=\"303.812\" y2=\"329.812\"/><polygon fill=\"#A80036\" points=\"329,319.812,333,329.812,337,319.812,333,323.812\" style=\"stroke: #A80036; stroke-width: 1.0;\"/><line style=\"stroke: #A80036; stroke-width: 1.5;\" x1=\"223\" x2=\"289\" y1=\"237.8433\" y2=\"237.8433\"/><polygon fill=\"#A80036\" points=\"279,233.8433,289,237.8433,279,241.8433,283,237.8433\" style=\"stroke: #A80036; stroke-width: 1.0;\"/><line style=\"stroke: #A80036; stroke-width: 1.5;\" x1=\"287.5\" x2=\"287.5\" y1=\"181.9375\" y2=\"200.8433\"/><line style=\"stroke: #A80036; stroke-width: 1.5;\" x1=\"287.5\" x2=\"183.5\" y1=\"200.8433\" y2=\"200.8433\"/><line style=\"stroke: #A80036; stroke-width: 1.5;\" x1=\"183.5\" x2=\"183.5\" y1=\"200.8433\" y2=\"225.8433\"/><polygon fill=\"#A80036\" points=\"179.5,215.8433,183.5,225.8433,187.5,215.8433,183.5,219.8433\" style=\"stroke: #A80036; stroke-width: 1.0;\"/><line style=\"stroke: #A80036; stroke-width: 1.5;\" x1=\"377\" x2=\"437\" y1=\"237.8433\" y2=\"237.8433\"/><line style=\"stroke: #A80036; stroke-width: 1.5;\" x1=\"437\" x2=\"437\" y1=\"237.8433\" y2=\"329.812\"/><polygon fill=\"#A80036\" points=\"433,319.812,437,329.812,441,319.812,437,323.812\" style=\"stroke: #A80036; stroke-width: 1.0;\"/><line style=\"stroke: #A80036; stroke-width: 1.5;\" x1=\"183.5\" x2=\"437\" y1=\"329.812\" y2=\"329.812\"/><line style=\"stroke: #A80036; stroke-width: 1.5;\" x1=\"532.5\" x2=\"532.5\" y1=\"249.8433\" y2=\"269.8433\"/><polygon fill=\"#A80036\" points=\"528.5,259.8433,532.5,269.8433,536.5,259.8433,532.5,263.8433\" style=\"stroke: #A80036; stroke-width: 1.0;\"/><line style=\"stroke: #A80036; stroke-width: 1.5;\" x1=\"532.5\" x2=\"532.5\" y1=\"303.812\" y2=\"329.812\"/><polygon fill=\"#A80036\" points=\"528.5,319.812,532.5,329.812,536.5,319.812,532.5,323.812\" style=\"stroke: #A80036; stroke-width: 1.0;\"/><line style=\"stroke: #A80036; stroke-width: 1.5;\" x1=\"678.5\" x2=\"678.5\" y1=\"249.8433\" y2=\"269.8433\"/><polygon fill=\"#A80036\" points=\"674.5,259.8433,678.5,269.8433,682.5,259.8433,678.5,263.8433\" style=\"stroke: #A80036; stroke-width: 1.0;\"/><line style=\"stroke: #A80036; stroke-width: 1.5;\" x1=\"678.5\" x2=\"678.5\" y1=\"303.812\" y2=\"329.812\"/><polygon fill=\"#A80036\" points=\"674.5,319.812,678.5,329.812,682.5,319.812,678.5,323.812\" style=\"stroke: #A80036; stroke-width: 1.0;\"/><line style=\"stroke: #A80036; stroke-width: 1.5;\" x1=\"581\" x2=\"634.5\" y1=\"237.8433\" y2=\"237.8433\"/><polygon fill=\"#A80036\" points=\"624.5,233.8433,634.5,237.8433,624.5,241.8433,628.5,237.8433\" style=\"stroke: #A80036; stroke-width: 1.0;\"/><line style=\"stroke: #A80036; stroke-width: 1.5;\" x1=\"633\" x2=\"633\" y1=\"181.9375\" y2=\"200.8433\"/><line style=\"stroke: #A80036; stroke-width: 1.5;\" x1=\"633\" x2=\"532.5\" y1=\"200.8433\" y2=\"200.8433\"/><line style=\"stroke: #A80036; stroke-width: 1.5;\" x1=\"532.5\" x2=\"532.5\" y1=\"200.8433\" y2=\"225.8433\"/><polygon fill=\"#A80036\" points=\"528.5,215.8433,532.5,225.8433,536.5,215.8433,532.5,219.8433\" style=\"stroke: #A80036; stroke-width: 1.0;\"/><line style=\"stroke: #A80036; stroke-width: 1.5;\" x1=\"722.5\" x2=\"779\" y1=\"237.8433\" y2=\"237.8433\"/><line style=\"stroke: #A80036; stroke-width: 1.5;\" x1=\"779\" x2=\"779\" y1=\"237.8433\" y2=\"329.812\"/><polygon fill=\"#A80036\" points=\"775,319.812,779,329.812,783,319.812,779,323.812\" style=\"stroke: #A80036; stroke-width: 1.0;\"/><line style=\"stroke: #A80036; stroke-width: 1.5;\" x1=\"532.5\" x2=\"779\" y1=\"329.812\" y2=\"329.812\"/><line style=\"stroke: #A80036; stroke-width: 1.5;\" x1=\"883\" x2=\"883\" y1=\"249.8433\" y2=\"269.8433\"/><polygon fill=\"#A80036\" points=\"879,259.8433,883,269.8433,887,259.8433,883,263.8433\" style=\"stroke: #A80036; stroke-width: 1.0;\"/><line style=\"stroke: #A80036; stroke-width: 1.5;\" x1=\"883\" x2=\"883\" y1=\"303.812\" y2=\"329.812\"/><polygon fill=\"#A80036\" points=\"879,319.812,883,329.812,887,319.812,883,323.812\" style=\"stroke: #A80036; stroke-width: 1.0;\"/><line style=\"stroke: #A80036; stroke-width: 1.5;\" x1=\"1037.5\" x2=\"1037.5\" y1=\"249.8433\" y2=\"269.8433\"/><polygon fill=\"#A80036\" points=\"1033.5,259.8433,1037.5,269.8433,1041.5,259.8433,1037.5,263.8433\" style=\"stroke: #A80036; stroke-width: 1.0;\"/><line style=\"stroke: #A80036; stroke-width: 1.5;\" x1=\"1037.5\" x2=\"1037.5\" y1=\"303.812\" y2=\"329.812\"/><polygon fill=\"#A80036\" points=\"1033.5,319.812,1037.5,329.812,1041.5,319.812,1037.5,323.812\" style=\"stroke: #A80036; stroke-width: 1.0;\"/><line style=\"stroke: #A80036; stroke-width: 1.5;\" x1=\"931.5\" x2=\"998\" y1=\"237.8433\" y2=\"237.8433\"/><polygon fill=\"#A80036\" points=\"988,233.8433,998,237.8433,988,241.8433,992,237.8433\" style=\"stroke: #A80036; stroke-width: 1.0;\"/><line style=\"stroke: #A80036; stroke-width: 1.5;\" x1=\"983.5\" x2=\"983.5\" y1=\"181.9375\" y2=\"200.8433\"/><line style=\"stroke: #A80036; stroke-width: 1.5;\" x1=\"983.5\" x2=\"883\" y1=\"200.8433\" y2=\"200.8433\"/><line style=\"stroke: #A80036; stroke-width: 1.5;\" x1=\"883\" x2=\"883\" y1=\"200.8433\" y2=\"225.8433\"/><polygon fill=\"#A80036\" points=\"879,215.8433,883,225.8433,887,215.8433,883,219.8433\" style=\"stroke: #A80036; stroke-width: 1.0;\"/><line style=\"stroke: #A80036; stroke-width: 1.5;\" x1=\"1077\" x2=\"1138\" y1=\"237.8433\" y2=\"237.8433\"/><line style=\"stroke: #A80036; stroke-width: 1.5;\" x1=\"1138\" x2=\"1138\" y1=\"237.8433\" y2=\"329.812\"/><polygon fill=\"#A80036\" points=\"1134,319.812,1138,329.812,1142,319.812,1138,323.812\" style=\"stroke: #A80036; stroke-width: 1.0;\"/><line style=\"stroke: #A80036; stroke-width: 1.5;\" x1=\"883\" x2=\"1138\" y1=\"329.812\" y2=\"329.812\"/><line style=\"stroke: #A80036; stroke-width: 1.5;\" x1=\"56.5\" x2=\"56.5\" y1=\"181.9375\" y2=\"213.6479\"/><polygon fill=\"#A80036\" points=\"52.5,203.6479,56.5,213.6479,60.5,203.6479,56.5,207.6479\" style=\"stroke: #A80036; stroke-width: 1.0;\"/><line style=\"stroke: #A80036; stroke-width: 1.5;\" x1=\"56.5\" x2=\"56.5\" y1=\"247.6167\" y2=\"349.812\"/><polygon fill=\"#A80036\" points=\"52.5,339.812,56.5,349.812,60.5,339.812,56.5,343.812\" style=\"stroke: #A80036; stroke-width: 1.0;\"/><line style=\"stroke: #A80036; stroke-width: 1.5;\" x1=\"287.5\" x2=\"287.5\" y1=\"329.812\" y2=\"349.812\"/><polygon fill=\"#A80036\" points=\"283.5,339.812,287.5,349.812,291.5,339.812,287.5,343.812\" style=\"stroke: #A80036; stroke-width: 1.0;\"/><line style=\"stroke: #A80036; stroke-width: 1.5;\" x1=\"633\" x2=\"633\" y1=\"329.812\" y2=\"349.812\"/><polygon fill=\"#A80036\" points=\"629,339.812,633,349.812,637,339.812,633,343.812\" style=\"stroke: #A80036; stroke-width: 1.0;\"/><line style=\"stroke: #A80036; stroke-width: 1.5;\" x1=\"983.5\" x2=\"983.5\" y1=\"329.812\" y2=\"349.812\"/><polygon fill=\"#A80036\" points=\"979.5,339.812,983.5,349.812,987.5,339.812,983.5,343.812\" style=\"stroke: #A80036; stroke-width: 1.0;\"/><line style=\"stroke: #A80036; stroke-width: 1.5;\" x1=\"84.5\" x2=\"239\" y1=\"169.9375\" y2=\"169.9375\"/><polygon fill=\"#A80036\" points=\"229,165.9375,239,169.9375,229,173.9375,233,169.9375\" style=\"stroke: #A80036; stroke-width: 1.0;\"/><line style=\"stroke: #A80036; stroke-width: 1.5;\" x1=\"336\" x2=\"593.5\" y1=\"169.9375\" y2=\"169.9375\"/><polygon fill=\"#A80036\" points=\"583.5,165.9375,593.5,169.9375,583.5,173.9375,587.5,169.9375\" style=\"stroke: #A80036; stroke-width: 1.0;\"/><line style=\"stroke: #A80036; stroke-width: 1.5;\" x1=\"672.5\" x2=\"939.5\" y1=\"169.9375\" y2=\"169.9375\"/><polygon fill=\"#A80036\" points=\"929.5,165.9375,939.5,169.9375,929.5,173.9375,933.5,169.9375\" style=\"stroke: #A80036; stroke-width: 1.0;\"/><line style=\"stroke: #A80036; stroke-width: 1.5;\" x1=\"638.5\" x2=\"638.5\" y1=\"137.9375\" y2=\"142.9375\"/><line style=\"stroke: #A80036; stroke-width: 1.5;\" x1=\"638.5\" x2=\"56.5\" y1=\"142.9375\" y2=\"142.9375\"/><line style=\"stroke: #A80036; stroke-width: 1.5;\" x1=\"56.5\" x2=\"56.5\" y1=\"142.9375\" y2=\"157.9375\"/><polygon fill=\"#A80036\" points=\"52.5,147.9375,56.5,157.9375,60.5,147.9375,56.5,151.9375\" style=\"stroke: #A80036; stroke-width: 1.0;\"/><line style=\"stroke: #A80036; stroke-width: 1.5;\" x1=\"1027.5\" x2=\"1220\" y1=\"169.9375\" y2=\"169.9375\"/><line style=\"stroke: #A80036; stroke-width: 1.5;\" x1=\"1220\" x2=\"1220\" y1=\"169.9375\" y2=\"275.8433\"/><polygon fill=\"#A80036\" points=\"1216,265.8433,1220,275.8433,1224,265.8433,1220,269.8433\" style=\"stroke: #A80036; stroke-width: 1.0;\"/><line style=\"stroke: #A80036; stroke-width: 1.5;\" x1=\"1220\" x2=\"1220\" y1=\"309.812\" y2=\"349.812\"/><polygon fill=\"#A80036\" points=\"1216,339.812,1220,349.812,1224,339.812,1220,343.812\" style=\"stroke: #A80036; stroke-width: 1.0;\"/><line style=\"stroke: #A80036; stroke-width: 1.5;\" x1=\"56.5\" x2=\"1220\" y1=\"349.812\" y2=\"349.812\"/><line style=\"stroke: #A80036; stroke-width: 1.5;\" x1=\"638.5\" x2=\"638.5\" y1=\"349.812\" y2=\"369.812\"/><polygon fill=\"#A80036\" points=\"634.5,359.812,638.5,369.812,642.5,359.812,638.5,363.812\" style=\"stroke: #A80036; stroke-width: 1.0;\"/><line style=\"stroke: #A80036; stroke-width: 1.5;\" x1=\"638.5\" x2=\"638.5\" y1=\"403.7808\" y2=\"423.7808\"/><polygon fill=\"#A80036\" points=\"634.5,413.7808,638.5,423.7808,642.5,413.7808,638.5,417.7808\" style=\"stroke: #A80036; stroke-width: 1.0;\"/></g></svg>"
       ],
       "text": [
        "<IPython.core.display.SVG at 0x7fd9723e8050>"
       ]
      }
     ],
     "prompt_number": 23
    },
    {
     "cell_type": "markdown",
     "metadata": {},
     "source": [
      "###\ud55c\uae00\uc744 \ube44\uad50\ud558\uae30\n",
      "<ul><li>\ud55c\uae00\uc744 \uc720\ub2c8\ucf54\ub4dc unicode</li>\n",
      "<li>\uc9c0\uc6d0 : ipython notebook\uc5d0\uc11c\ub294 \uc720\ub2c8\ucf54\ub4dc \uc9c0\uc6d0. \ub2e4\ub978 \ud658\uacbd\uc5d0\uc11c\ub098, \ud30c\uc77c\uc744 \uc77d\uc5b4\uc624\ub294 \uacbd\uc6b0 \uc720\ub2c8\ucf54\ub4dc \ubcc4\ub3c4 \uc124\uc815 \ud544\uc694.</li>\n",
      "</ul>"
     ]
    },
    {
     "cell_type": "code",
     "collapsed": false,
     "input": [
      "if '\uac00\uc704'=='\uac00\uc704':\n",
      "    print '\uc11c\ub85c \ube44\uae34 \uac70 \uc54c\uc9c0?!'"
     ],
     "language": "python",
     "metadata": {},
     "outputs": [
      {
       "output_type": "stream",
       "stream": "stdout",
       "text": [
        "\uc11c\ub85c \ube44\uae34 \uac70 \uc54c\uc9c0?!\n"
       ]
      }
     ],
     "prompt_number": 24
    },
    {
     "cell_type": "code",
     "collapsed": false,
     "input": [
      "sel1 = raw_input(\"\uccab \ubc88\uca30 \uac00\uc704, \ubc14\uc704, \ubcf4 \uac00\uc6b4\ub370 \ud558\ub098\ub97c \ub0b4\uc138\uc694: \")\n",
      "sel2 = raw_input(\"\ub450 \ubc88\uc9f8 \uac00\uc704, \ubc14\uc704, \ubcf4 \uac00\uc6b4\ub370 \ud558\ub098\ub97c \ub0b4\uc138\uc694: \")\n",
      "\n",
      "def compare(u1, u2):\n",
      "    if u1 == u2:\n",
      "        res=\"\ube44\uacbc\uc2b5\ub2c8\ub2e4.\"\n",
      "    elif u1 == '\uac00\uc704':\n",
      "        if u2 == '\ubc14\uc704':\n",
      "            res=\"\ubcf4\uac00 \uc774\uacbc\uc2b5\ub2c8\ub2e4.\"\n",
      "        else:\n",
      "            res=\"\uac00\uc704\uac00 \uc774\uacbc\uc2b5\ub2c8\ub2e4.\"\n",
      "    elif u1 == '\ubc14\uc704':\n",
      "        if u2 == '\ubcf4':\n",
      "            res=\"\ubcf4\uac00 \uc774\uacbc\uc2b5\ub2c8\ub2e4.\"\n",
      "        else:\n",
      "            res=\"\ubc14\uc704\uac00 \uc774\uacbc\uc2b5\ub2c8\ub2e4.\"\n",
      "    elif u1 == '\ubcf4':\n",
      "        if u2 == '\ubc14\uc704':\n",
      "            res=\"\ubcf4\uac00 \uc774\uacbc\uc2b5\ub2c8\ub2e4.\"\n",
      "        else:\n",
      "            res=\"\uac00\uc704\uac00 \uc774\uacbc\uc2b5\ub2c8\ub2e4.\"\n",
      "    else:\n",
      "        res=\"\uc624\ub958! \uac00\uc704, \ubc14\uc704, \ubcf4 \uac00\uc6b4\ub370 \uace0\ub974\uc138\uc694!\"\n",
      "    return res\n",
      "\n",
      "print(compare(sel1, sel2))"
     ],
     "language": "python",
     "metadata": {},
     "outputs": [
      {
       "name": "stdout",
       "output_type": "stream",
       "stream": "stdout",
       "text": [
        "\uccab \ubc88\uca30 \uac00\uc704, \ubc14\uc704, \ubcf4 \uac00\uc6b4\ub370 \ud558\ub098\ub97c \ub0b4\uc138\uc694: \n"
       ]
      },
      {
       "name": "stdout",
       "output_type": "stream",
       "stream": "stdout",
       "text": [
        "\ub450 \ubc88\uc9f8 \uac00\uc704, \ubc14\uc704, \ubcf4 \uac00\uc6b4\ub370 \ud558\ub098\ub97c \ub0b4\uc138\uc694: \n"
       ]
      },
      {
       "output_type": "stream",
       "stream": "stdout",
       "text": [
        "\ube44\uacbc\uc2b5\ub2c8\ub2e4.\n"
       ]
      }
     ],
     "prompt_number": 28
    },
    {
     "cell_type": "markdown",
     "metadata": {},
     "source": [
      "##\ubb38\uc81c 4 : \uc0bc\uac01\ud615 \uadf8\ub9ac\uae30"
     ]
    },
    {
     "cell_type": "markdown",
     "metadata": {},
     "source": [
      "###\uc0c1\uc218\uc758 \uc0ac\uc6a9"
     ]
    },
    {
     "cell_type": "code",
     "collapsed": false,
     "input": [
      "for i in range(1,6):\n",
      "    print((5-i)*\" \"+i*\"#\")"
     ],
     "language": "python",
     "metadata": {},
     "outputs": [
      {
       "output_type": "stream",
       "stream": "stdout",
       "text": [
        "    #\n",
        "   ##\n",
        "  ###\n",
        " ####\n",
        "#####\n"
       ]
      }
     ],
     "prompt_number": 30
    },
    {
     "cell_type": "code",
     "collapsed": false,
     "input": [
      "for i in range(1,6):\n",
      "    print((5-i)*\" \"+2*i*\"#\")"
     ],
     "language": "python",
     "metadata": {},
     "outputs": [
      {
       "output_type": "stream",
       "stream": "stdout",
       "text": [
        "    ##\n",
        "   ####\n",
        "  ######\n",
        " ########\n",
        "##########\n"
       ]
      }
     ],
     "prompt_number": 31
    },
    {
     "cell_type": "code",
     "collapsed": false,
     "input": [
      "maxiter=5\n",
      "for i in range(1,maxiter+1):\n",
      "    print((maxiter-i)*\" \"+2*i*\"#\")"
     ],
     "language": "python",
     "metadata": {},
     "outputs": [
      {
       "output_type": "stream",
       "stream": "stdout",
       "text": [
        "    ##\n",
        "   ####\n",
        "  ######\n",
        " ########\n",
        "##########\n"
       ]
      }
     ],
     "prompt_number": 32
    },
    {
     "cell_type": "code",
     "collapsed": false,
     "input": [
      "# \ud568\uc218\ub85c \ub9cc\ub4e6\n",
      "def drawTriangle(iter,symbol):\n",
      "    maxiter=iter\n",
      "    for i in range(1,maxiter+1):\n",
      "        print((maxiter-i)*\" \"+2*i*symbol)\n",
      "drawTriangle(8,'#')"
     ],
     "language": "python",
     "metadata": {},
     "outputs": [
      {
       "output_type": "stream",
       "stream": "stdout",
       "text": [
        "       ##\n",
        "      ####\n",
        "     ######\n",
        "    ########\n",
        "   ##########\n",
        "  ############\n",
        " ##############\n",
        "################\n"
       ]
      }
     ],
     "prompt_number": 33
    },
    {
     "cell_type": "markdown",
     "metadata": {},
     "source": [
      "##\ubb38\uc81c 5 : BMI"
     ]
    },
    {
     "cell_type": "code",
     "collapsed": false,
     "input": [
      "# 170cm 75kg\n",
      "weight=75\n",
      "height=1.7\n",
      "bmi=weight/ height /height\n",
      "print bmi"
     ],
     "language": "python",
     "metadata": {},
     "outputs": [
      {
       "output_type": "stream",
       "stream": "stdout",
       "text": [
        "25.9515570934\n"
       ]
      }
     ],
     "prompt_number": 34
    },
    {
     "cell_type": "code",
     "collapsed": false,
     "input": [
      "height=1.74\n",
      "weight=69\n",
      "bmi = weight / height / height\n",
      "print 'Your BMI is %.2f' % bmi\n",
      "if bmi <= 18.5:\n",
      "    print '\uc800\uccb4\uc911'\n",
      "elif bmi >= 18.5 and bmi < 23:\n",
      "    print '\uc815\uc0c1\uccb4\uc911'\n",
      "elif bmi >= 23 and bmi < 25:\n",
      "    print '\uc704\ud5d8\uccb4\uc911'\n",
      "elif bmi >= 25 and bmi < 30:\n",
      "    print \"\ube44\ub9cc 1\ub2e8\uacc4\"\n",
      "elif bmi >= 30 and bmi < 40:\n",
      "    print \"\ube44\ub9cc 2\ub2e8\uacc4\"\n",
      "elif bmi >= 40:\n",
      "    print \"\ube44\ub9cc 3\ub2e8\uacc4\"\n",
      "else:\n",
      "    print \"\uc624\ub958\""
     ],
     "language": "python",
     "metadata": {},
     "outputs": [
      {
       "output_type": "stream",
       "stream": "stdout",
       "text": [
        "Your BMI is 22.79\n",
        "\uc815\uc0c1\uccb4\uc911\n"
       ]
      }
     ],
     "prompt_number": 35
    },
    {
     "cell_type": "markdown",
     "metadata": {},
     "source": [
      "##\ubb38\uc81c 6\n",
      "<ul>\n",
      "<li>\ub09c\uc774\ub3c4 1</li>\n",
      "<li>\ud504\ub85c\uadf8\ub798\ubc0d \uc694\uc18c: if\ubb38\uacfc for\ubb38\uc744 \uac19\uc774 \uc0ac\uc6a9.</li>\n",
      "<li>If we list all the natural numbers below 10 that are multiples of 3 or 5, we get 3, 5, 6 and 9. The sum of these multiples is 23.</li>\n",
      "<li>Find the sum of all the multiples of 3 or 5 below 1000.</li>\n",
      "</ul>"
     ]
    },
    {
     "cell_type": "code",
     "collapsed": false,
     "input": [
      "%%plantuml figure1\n",
      "@startuml\n",
      "\n",
      "start\n",
      "\n",
      ":sum=0;\n",
      "repeat\n",
      "    if (num is not divided by 3 or 5) then (true)\n",
      "    :add num to sum;\n",
      "    endif\n",
      "repeat while (num is 1000?)\n",
      ":print sum;\n",
      "\n",
      "stop\n",
      "\n",
      "@enduml"
     ],
     "language": "python",
     "metadata": {},
     "outputs": [
      {
       "metadata": {},
       "output_type": "pyout",
       "prompt_number": 36,
       "svg": [
        "<svg height=\"390px\" style=\"width:317px;height:390px;\" version=\"1.1\" viewBox=\"0 0 317 390\" width=\"317px\" xmlns=\"http://www.w3.org/2000/svg\" xmlns:xlink=\"http://www.w3.org/1999/xlink\"><defs><filter height=\"300%\" id=\"f1\" width=\"300%\" x=\"-1\" y=\"-1\"><feGaussianBlur result=\"blurOut\" stdDeviation=\"2.0\"/><feColorMatrix in=\"blurOut\" result=\"blurOut2\" type=\"matrix\" values=\"0 0 0 0 0 0 0 0 0 0 0 0 0 0 0 0 0 0 .4 0\"/><feOffset dx=\"4.0\" dy=\"4.0\" in=\"blurOut2\" result=\"blurOut3\"/><feBlend in=\"SourceGraphic\" in2=\"blurOut3\" mode=\"normal\"/></filter></defs><g><ellipse cx=\"173\" cy=\"20\" fill=\"#000000\" filter=\"url(#f1)\" rx=\"10\" ry=\"10\" style=\"stroke: none; stroke-width: 1.0;\"/><rect fill=\"#FEFECE\" filter=\"url(#f1)\" height=\"33.9688\" rx=\"12.5\" ry=\"12.5\" style=\"stroke: #A80036; stroke-width: 1.5;\" width=\"64\" x=\"141\" y=\"50\"/><text fill=\"#000000\" font-family=\"sans-serif\" font-size=\"12\" lengthAdjust=\"spacingAndGlyphs\" textLength=\"44\" x=\"151\" y=\"71.1387\">sum=0</text><polygon fill=\"#FEFECE\" filter=\"url(#f1)\" points=\"93,147.9688,253,147.9688,265,159.9688,253,171.9688,93,171.9688,81,159.9688,93,147.9688\" style=\"stroke: #A80036; stroke-width: 1.5;\"/><text fill=\"#000000\" font-family=\"sans-serif\" font-size=\"11\" lengthAdjust=\"spacingAndGlyphs\" textLength=\"160\" x=\"93\" y=\"163.7769\">num is not divided by 3 or 5</text><text fill=\"#000000\" font-family=\"sans-serif\" font-size=\"11\" lengthAdjust=\"spacingAndGlyphs\" textLength=\"23\" x=\"58\" y=\"157.3745\">true</text><rect fill=\"#FEFECE\" filter=\"url(#f1)\" height=\"33.9688\" rx=\"12.5\" ry=\"12.5\" style=\"stroke: #A80036; stroke-width: 1.5;\" width=\"122\" x=\"10\" y=\"181.9688\"/><text fill=\"#000000\" font-family=\"sans-serif\" font-size=\"12\" lengthAdjust=\"spacingAndGlyphs\" textLength=\"102\" x=\"20\" y=\"203.1074\">add num to sum</text><polygon fill=\"#FEFECE\" filter=\"url(#f1)\" points=\"173,221.9375,185,233.9375,173,245.9375,161,233.9375,173,221.9375\" style=\"stroke: #A80036; stroke-width: 1.5;\"/><polygon fill=\"#FEFECE\" filter=\"url(#f1)\" points=\"173,103.9688,185,115.9688,173,127.9688,161,115.9688,173,103.9688\" style=\"stroke: #A80036; stroke-width: 1.5;\"/><polygon fill=\"#FEFECE\" filter=\"url(#f1)\" points=\"134.5,265.9375,211.5,265.9375,223.5,277.9375,211.5,289.9375,134.5,289.9375,122.5,277.9375,134.5,265.9375\" style=\"stroke: #A80036; stroke-width: 1.5;\"/><text fill=\"#000000\" font-family=\"sans-serif\" font-size=\"11\" lengthAdjust=\"spacingAndGlyphs\" textLength=\"77\" x=\"134.5\" y=\"281.7456\">num is 1000?</text><rect fill=\"#FEFECE\" filter=\"url(#f1)\" height=\"33.9688\" rx=\"12.5\" ry=\"12.5\" style=\"stroke: #A80036; stroke-width: 1.5;\" width=\"79\" x=\"133.5\" y=\"309.9375\"/><text fill=\"#000000\" font-family=\"sans-serif\" font-size=\"12\" lengthAdjust=\"spacingAndGlyphs\" textLength=\"59\" x=\"143.5\" y=\"331.0762\">print sum</text><ellipse cx=\"173\" cy=\"373.9063\" fill=\"none\" filter=\"url(#f1)\" rx=\"10\" ry=\"10\" style=\"stroke: #000000; stroke-width: 1.0;\"/><ellipse cx=\"173.5\" cy=\"374.4063\" fill=\"#000000\" filter=\"url(#f1)\" rx=\"6\" ry=\"6\" style=\"stroke: none; stroke-width: 1.0;\"/><line style=\"stroke: #A80036; stroke-width: 1.5;\" x1=\"173\" x2=\"173\" y1=\"30\" y2=\"50\"/><polygon fill=\"#A80036\" points=\"169,40,173,50,177,40,173,44\" style=\"stroke: #A80036; stroke-width: 1.0;\"/><line style=\"stroke: #A80036; stroke-width: 1.5;\" x1=\"81\" x2=\"71\" y1=\"159.9688\" y2=\"159.9688\"/><line style=\"stroke: #A80036; stroke-width: 1.5;\" x1=\"71\" x2=\"71\" y1=\"159.9688\" y2=\"181.9688\"/><polygon fill=\"#A80036\" points=\"67,171.9688,71,181.9688,75,171.9688,71,175.9688\" style=\"stroke: #A80036; stroke-width: 1.0;\"/><line style=\"stroke: #A80036; stroke-width: 1.5;\" x1=\"265\" x2=\"275\" y1=\"159.9688\" y2=\"159.9688\"/><polygon fill=\"#A80036\" points=\"271,186.9531,275,196.9531,279,186.9531,275,190.9531\" style=\"stroke: #A80036; stroke-width: 1.5;\"/><line style=\"stroke: #A80036; stroke-width: 1.5;\" x1=\"275\" x2=\"275\" y1=\"159.9688\" y2=\"233.9375\"/><line style=\"stroke: #A80036; stroke-width: 1.5;\" x1=\"275\" x2=\"185\" y1=\"233.9375\" y2=\"233.9375\"/><polygon fill=\"#A80036\" points=\"195,229.9375,185,233.9375,195,237.9375,191,233.9375\" style=\"stroke: #A80036; stroke-width: 1.0;\"/><line style=\"stroke: #A80036; stroke-width: 1.5;\" x1=\"71\" x2=\"71\" y1=\"215.9375\" y2=\"233.9375\"/><line style=\"stroke: #A80036; stroke-width: 1.5;\" x1=\"71\" x2=\"161\" y1=\"233.9375\" y2=\"233.9375\"/><polygon fill=\"#A80036\" points=\"151,229.9375,161,233.9375,151,237.9375,155,233.9375\" style=\"stroke: #A80036; stroke-width: 1.0;\"/><line style=\"stroke: #A80036; stroke-width: 1.5;\" x1=\"173\" x2=\"173\" y1=\"127.9688\" y2=\"147.9688\"/><polygon fill=\"#A80036\" points=\"169,137.9688,173,147.9688,177,137.9688,173,141.9688\" style=\"stroke: #A80036; stroke-width: 1.0;\"/><line style=\"stroke: #A80036; stroke-width: 1.5;\" x1=\"223.5\" x2=\"312\" y1=\"277.9375\" y2=\"277.9375\"/><polygon fill=\"#A80036\" points=\"308,230.9531,312,220.9531,316,230.9531,312,226.9531\" style=\"stroke: #A80036; stroke-width: 1.5;\"/><line style=\"stroke: #A80036; stroke-width: 1.5;\" x1=\"312\" x2=\"312\" y1=\"115.9688\" y2=\"277.9375\"/><line style=\"stroke: #A80036; stroke-width: 1.5;\" x1=\"312\" x2=\"185\" y1=\"115.9688\" y2=\"115.9688\"/><polygon fill=\"#A80036\" points=\"195,111.9688,185,115.9688,195,119.9688,191,115.9688\" style=\"stroke: #A80036; stroke-width: 1.0;\"/><line style=\"stroke: #A80036; stroke-width: 1.5;\" x1=\"173\" x2=\"173\" y1=\"245.9375\" y2=\"265.9375\"/><polygon fill=\"#A80036\" points=\"169,255.9375,173,265.9375,177,255.9375,173,259.9375\" style=\"stroke: #A80036; stroke-width: 1.0;\"/><line style=\"stroke: #A80036; stroke-width: 1.5;\" x1=\"173\" x2=\"173\" y1=\"83.9688\" y2=\"103.9688\"/><polygon fill=\"#A80036\" points=\"169,93.9688,173,103.9688,177,93.9688,173,97.9688\" style=\"stroke: #A80036; stroke-width: 1.0;\"/><line style=\"stroke: #A80036; stroke-width: 1.5;\" x1=\"173\" x2=\"173\" y1=\"289.9375\" y2=\"309.9375\"/><polygon fill=\"#A80036\" points=\"169,299.9375,173,309.9375,177,299.9375,173,303.9375\" style=\"stroke: #A80036; stroke-width: 1.0;\"/><line style=\"stroke: #A80036; stroke-width: 1.5;\" x1=\"173\" x2=\"173\" y1=\"343.9063\" y2=\"363.9063\"/><polygon fill=\"#A80036\" points=\"169,353.9063,173,363.9063,177,353.9063,173,357.9063\" style=\"stroke: #A80036; stroke-width: 1.0;\"/></g></svg>"
       ],
       "text": [
        "<IPython.core.display.SVG at 0x7fd9723e88d0>"
       ]
      }
     ],
     "prompt_number": 36
    },
    {
     "cell_type": "code",
     "collapsed": false,
     "input": [
      "## \ubb38\uc81c1 \ud504\ub85c\uadf8\ub7a8\n",
      "\n",
      "def problem_1():\n",
      "    sum=0\n",
      "    for num in range(0,1000,3):\n",
      "        if not (num % 3 and num % 5): sum+=num\n",
      "    return sum\n",
      "answer=problem_1()\n",
      "print \"\ub2f5 =\",answer"
     ],
     "language": "python",
     "metadata": {},
     "outputs": [
      {
       "output_type": "stream",
       "stream": "stdout",
       "text": [
        "\ub2f5 = 166833\n"
       ]
      }
     ],
     "prompt_number": 37
    }
   ],
   "metadata": {}
  }
 ]
}